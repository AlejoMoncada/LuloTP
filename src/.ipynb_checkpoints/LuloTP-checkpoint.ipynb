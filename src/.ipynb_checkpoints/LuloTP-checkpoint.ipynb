{
 "cells": [
  {
   "cell_type": "code",
   "execution_count": 20,
   "metadata": {
    "id": "Jizly7B7yF41"
   },
   "outputs": [],
   "source": [
    "import pandas as pd\n",
    "import numpy as np\n",
    "import glob \n",
    "import altair as alt\n",
    "import sqlite3\n",
    "import os\n",
    "#Descomentar línea de abajo ↓ en la primera ejecucución. \n",
    "#!pip install https://github.com/ydataai/pandas-profiling/archive/master.zip\n",
    "from pandas_profiling import ProfileReport\n",
    "\n",
    "#Se adiciona en caso de que se cree el archivo en base al libro.\n",
    "try:\n",
    "  os.mkdir(RutaJSON+'\\json')\n",
    "except:\n",
    "  print(\"El directorio ya existe en la ruta\")"
   ]
  },
  {
   "cell_type": "code",
   "execution_count": 2,
   "metadata": {
    "colab": {
     "base_uri": "https://localhost:8080/"
    },
    "id": "vLuoXFvbyMFZ",
    "outputId": "af99e768-8594-484d-a7ee-840c9fec64dc"
   },
   "outputs": [
    {
     "name": "stdout",
     "output_type": "stream",
     "text": [
      "http://api.tvmaze.com/schedule/web?date=2020-12-01 Export Complete\n",
      "http://api.tvmaze.com/schedule/web?date=2020-12-02 Export Complete\n",
      "http://api.tvmaze.com/schedule/web?date=2020-12-03 Export Complete\n",
      "http://api.tvmaze.com/schedule/web?date=2020-12-04 Export Complete\n",
      "http://api.tvmaze.com/schedule/web?date=2020-12-05 Export Complete\n",
      "http://api.tvmaze.com/schedule/web?date=2020-12-06 Export Complete\n",
      "http://api.tvmaze.com/schedule/web?date=2020-12-07 Export Complete\n",
      "http://api.tvmaze.com/schedule/web?date=2020-12-08 Export Complete\n",
      "http://api.tvmaze.com/schedule/web?date=2020-12-09 Export Complete\n",
      "http://api.tvmaze.com/schedule/web?date=2020-12-10 Export Complete\n",
      "http://api.tvmaze.com/schedule/web?date=2020-12-11 Export Complete\n",
      "http://api.tvmaze.com/schedule/web?date=2020-12-12 Export Complete\n",
      "http://api.tvmaze.com/schedule/web?date=2020-12-13 Export Complete\n",
      "http://api.tvmaze.com/schedule/web?date=2020-12-14 Export Complete\n",
      "http://api.tvmaze.com/schedule/web?date=2020-12-15 Export Complete\n",
      "http://api.tvmaze.com/schedule/web?date=2020-12-16 Export Complete\n",
      "http://api.tvmaze.com/schedule/web?date=2020-12-17 Export Complete\n",
      "http://api.tvmaze.com/schedule/web?date=2020-12-18 Export Complete\n",
      "http://api.tvmaze.com/schedule/web?date=2020-12-19 Export Complete\n",
      "http://api.tvmaze.com/schedule/web?date=2020-12-20 Export Complete\n",
      "http://api.tvmaze.com/schedule/web?date=2020-12-21 Export Complete\n",
      "http://api.tvmaze.com/schedule/web?date=2020-12-22 Export Complete\n",
      "http://api.tvmaze.com/schedule/web?date=2020-12-23 Export Complete\n",
      "http://api.tvmaze.com/schedule/web?date=2020-12-24 Export Complete\n",
      "http://api.tvmaze.com/schedule/web?date=2020-12-25 Export Complete\n",
      "http://api.tvmaze.com/schedule/web?date=2020-12-26 Export Complete\n",
      "http://api.tvmaze.com/schedule/web?date=2020-12-27 Export Complete\n",
      "http://api.tvmaze.com/schedule/web?date=2020-12-28 Export Complete\n",
      "http://api.tvmaze.com/schedule/web?date=2020-12-29 Export Complete\n",
      "http://api.tvmaze.com/schedule/web?date=2020-12-30 Export Complete\n",
      "http://api.tvmaze.com/schedule/web?date=2020-12-31 Export Complete\n"
     ]
    }
   ],
   "source": [
    "from pandas.core.reshape.merge import string\n",
    "#Se inicia con la obtención de los datos para el presente mes de 2022-12-*\n",
    "path_base =\"http://api.tvmaze.com/schedule/web?date=2020-12-\"\n",
    "archivo= pd.read_json(path_base +\"01\")\n",
    "\n",
    "\n",
    "\n",
    "#Para ejecutar en otro equipo cambiar la ruta de la siguiente abajo Ruta_JSO.\n",
    "#RutaJSON=r\"C:\\Users\\Alejandro Moncada\\Documents\\LuloTP\"\n",
    "RutaJSON=r\"C:\\Users\\anliscen\\Documents\\LuloTP\\LuloTP\"\n",
    "\n",
    "#array=np.empty(31, str)\n",
    "#se usa el Zfill para agregar digito falante a los datos <10.\n",
    "for ix in range(31):\n",
    "  #pd.read_json\n",
    "  df=pd.read_json(path_base +str(ix+1).zfill(2))\n",
    "  df.to_json(RutaJSON+'\\json'+'\\TV_Maze'+str(ix+1).zfill(2)+\".json\")\n",
    "  print(path_base +str(ix+1).zfill(2) + ' Export Complete')"
   ]
  },
  {
   "cell_type": "code",
   "execution_count": 50,
   "metadata": {
    "id": "741PJWdwyljB"
   },
   "outputs": [
    {
     "name": "stdout",
     "output_type": "stream",
     "text": [
      "<class 'pandas.core.frame.DataFrame'>\n",
      "Int64Index: 3061 entries, 0 to 130\n",
      "Data columns (total 15 columns):\n",
      " #   Column     Non-Null Count  Dtype  \n",
      "---  ------     --------------  -----  \n",
      " 0   id         3061 non-null   int64  \n",
      " 1   url        3061 non-null   object \n",
      " 2   name       3061 non-null   object \n",
      " 3   season     3061 non-null   int64  \n",
      " 4   number     2980 non-null   float64\n",
      " 5   type       3061 non-null   object \n",
      " 6   airdate    3061 non-null   object \n",
      " 7   airtime    3061 non-null   object \n",
      " 8   airstamp   3061 non-null   object \n",
      " 9   runtime    2842 non-null   float64\n",
      " 10  rating     3061 non-null   object \n",
      " 11  image      1023 non-null   object \n",
      " 12  summary    892 non-null    object \n",
      " 13  _links     3061 non-null   object \n",
      " 14  _embedded  3061 non-null   object \n",
      "dtypes: float64(2), int64(2), object(11)\n",
      "memory usage: 382.6+ KB\n"
     ]
    }
   ],
   "source": [
    "rutas = glob.glob(RutaJSON+\"\\json\"+\"\\TV_Maze*\"+\".json\")\n",
    "partes_glob = [pd.read_json(ruta) for ruta in rutas]\n",
    "TV_Maze = pd.concat(partes_glob)\n",
    "TV_Maze.info()"
   ]
  },
  {
   "cell_type": "markdown",
   "metadata": {},
   "source": [
    "# 1. Se importan los datos del mes de diciembre 2020\n",
    "Se realiza la importación de la data solicitada, en este caso dado que el API Rest no permitió para schedula una la función year ya que devolvia los valores por defecto (los shows emitidos en la fecha actual) se optó por realizar la importación de schedule día por día, es un proceso que se puede mejorar dado que toma aproximadamente 30 segundos recorrer el for y obtener la información, dentro del bucle son creados los archivos JSON obtenidos y lo que realicé fué unir todos estos archivos usando glob.glob para asegurarme que todos los archivos inicien en TV_Maze y finalicen con .json.\n",
    "\n",
    "Nota: La función *zfill(2)* la uso para indicar que los valores que solo contengan 1 digito completen el segundo digito con un cero (0) a la izquierda dado que es requisito para la fecha en el formato **ISO-8601**  AAAA-MM-DD."
   ]
  },
  {
   "cell_type": "code",
   "execution_count": 48,
   "metadata": {},
   "outputs": [],
   "source": [
    "bn= pd.DataFrame(TV_Maze._embedded.values.tolist())['show']\n",
    "TV_Maze_Show=pd.json_normalize(bn)\n",
    "\n",
    "\n",
    "\n",
    "pd.DataFrame(TV_Maze.summary.values.tolist())['']\n",
    "#cn= pd.DataFrame(TV_Maze._embedded.values.tolist())['ratings']\n",
    "#TV_Maze_Ratings=pd.json_normalize(cn)"
   ]
  },
  {
   "cell_type": "markdown",
   "metadata": {
    "colab": {
     "base_uri": "https://localhost:8080/"
    },
    "id": "A8nyUgQxzkzo",
    "outputId": "845afb6a-4d09-4e8a-be2e-7495a128eff6"
   },
   "source": [
    "## 2. Generación de DataFrames \n",
    "En esta sección contamos con los dataframes a trabajar, (1) TV_Maze que corresponde a la información obtenida de Schedule que nos da un vistazo general de la información.  Y (2) TV_Maze_Show, que expande la columna _embedded que contiene toda la información del Show que considero mucho más útil dado que encontramos un mayor cantidad de variables categóricas que servirán mas adelante.\n",
    "\n",
    "En este caso nuestros segundo dataset contiene ya filtrados los datos que corresponden a TV_Shows emitidos en el mes de Dic-2020 por lo que no es necesario realizar una cruce de tablas para cumplir con esta condición.\n",
    "\n",
    "#TV_Maze.head(5)\n",
    "#TV_Maze.to_excel('TV_Maze.xlsx')\n",
    "#pd.drop(TV_Maze['id','airestamp','_links','_embedded','summary','image','url'])\n"
   ]
  },
  {
   "cell_type": "markdown",
   "metadata": {},
   "source": [
    "## 3. Profiling de los DF\n",
    "En este proceso se hará uso como se solicitó de archivos profiling en HTML dado que permiten una mayor versatilidad a la hora de realizar la visualizaciones. "
   ]
  },
  {
   "cell_type": "code",
   "execution_count": 13,
   "metadata": {
    "id": "wL2SYdwEzEhv"
   },
   "outputs": [
    {
     "data": {
      "application/vnd.jupyter.widget-view+json": {
       "model_id": "bc2d16da0f4145e8a47e7a9f9e65eeee",
       "version_major": 2,
       "version_minor": 0
      },
      "text/plain": [
       "Summarize dataset:   0%|          | 0/5 [00:00<?, ?it/s]"
      ]
     },
     "metadata": {},
     "output_type": "display_data"
    },
    {
     "data": {
      "application/vnd.jupyter.widget-view+json": {
       "model_id": "fe875463257243499368812ac4fba112",
       "version_major": 2,
       "version_minor": 0
      },
      "text/plain": [
       "Generate report structure:   0%|          | 0/1 [00:00<?, ?it/s]"
      ]
     },
     "metadata": {},
     "output_type": "display_data"
    },
    {
     "data": {
      "application/vnd.jupyter.widget-view+json": {
       "model_id": "2457de327f5f49639219c061fc3eb368",
       "version_major": 2,
       "version_minor": 0
      },
      "text/plain": [
       "Render HTML:   0%|          | 0/1 [00:00<?, ?it/s]"
      ]
     },
     "metadata": {},
     "output_type": "display_data"
    },
    {
     "data": {
      "application/vnd.jupyter.widget-view+json": {
       "model_id": "a0a795cbe80c47ccaa138bc89ee52354",
       "version_major": 2,
       "version_minor": 0
      },
      "text/plain": [
       "Export report to file:   0%|          | 0/1 [00:00<?, ?it/s]"
      ]
     },
     "metadata": {},
     "output_type": "display_data"
    }
   ],
   "source": [
    "#TV_Maze_Show.describe()\n",
    "try:\n",
    "  os.mkdir(RutaJSON+'\\profiling')\n",
    "except:\n",
    "  print(\"El archivo ya existe en la ruta\")\n",
    "\n",
    "profile = ProfileReport(TV_Maze, title='Modelo TV Maze Schedule', html={'style':{'full_witdth':True}})\n",
    "profile.to_file(RutaJSON+'\\profiling'+'\\Reporte TV Maze Schedule'+\".html\")"
   ]
  },
  {
   "cell_type": "markdown",
   "metadata": {},
   "source": [
    "##### En base al reporte de TV Maze Schedule\n",
    "Se encuentra que las columnas rating,_links y _embedded. En este punto no son tan útiles las dos primeras porque no aportan información valiosa ya que tienen un JSON embebido pero la mayor parte de los valores en el caso de rating son valores None, adicionalmente esta columna no presenta el ID de los datos.\n",
    "\n",
    "##### Image\n",
    "Contiene imágenes de los dato, sin embargo no son relevantes para el análisis en este punto. Puede servir para otro tipo de análisis. Sin embargo dado que 66.6% de los datos es una variable que puede ser suceptible a ser eliminada.\n",
    "\n",
    "#### _embedded \n",
    "Ya en este punto se extrajo la información, es el dataset más valiosos tanto por la cantidad de información como porque permite vincular los DF TV_Maze y TV_Maze shows por medio de realizar un JOIN por medio del ID. EN ESTE PUNTO SE PUEDE ELIMINAR \n",
    "\n",
    "#### _ratings\n",
    "Aporta información pero la mayor parte de los datos tiene este campo vacio, puede ser un indicador de popularidad de la serie.\n",
    "\n"
   ]
  },
  {
   "cell_type": "code",
   "execution_count": 29,
   "metadata": {},
   "outputs": [
    {
     "name": "stdout",
     "output_type": "stream",
     "text": [
      "El archivo ya existe en la ruta\n"
     ]
    },
    {
     "data": {
      "application/vnd.jupyter.widget-view+json": {
       "model_id": "477a4eaa76c34bab832a3b8a00e49934",
       "version_major": 2,
       "version_minor": 0
      },
      "text/plain": [
       "Summarize dataset:   0%|          | 0/5 [00:00<?, ?it/s]"
      ]
     },
     "metadata": {},
     "output_type": "display_data"
    },
    {
     "name": "stderr",
     "output_type": "stream",
     "text": [
      "C:\\Users\\anliscen\\AppData\\Roaming\\Python\\Python39\\site-packages\\pandas_profiling\\model\\correlations.py:55: UserWarning: There was an attempt to calculate the cramers correlation, but this failed.\n",
      "To hide this warning, disable the calculation\n",
      "(using `df.profile_report(correlations={\"cramers\": {\"calculate\": False}})`\n",
      "If this is problematic for your use case, please report this as an issue:\n",
      "https://github.com/pandas-profiling/pandas-profiling/issues\n",
      "(include the error message: 'No data; `observed` has size 0.')\n",
      "  warnings.warn(\n"
     ]
    },
    {
     "data": {
      "application/vnd.jupyter.widget-view+json": {
       "model_id": "feb98f15d55e473c9ecca40efc249f3f",
       "version_major": 2,
       "version_minor": 0
      },
      "text/plain": [
       "Generate report structure:   0%|          | 0/1 [00:00<?, ?it/s]"
      ]
     },
     "metadata": {},
     "output_type": "display_data"
    },
    {
     "data": {
      "application/vnd.jupyter.widget-view+json": {
       "model_id": "fba47a1183034fc59f8e0b555d61141a",
       "version_major": 2,
       "version_minor": 0
      },
      "text/plain": [
       "Render HTML:   0%|          | 0/1 [00:00<?, ?it/s]"
      ]
     },
     "metadata": {},
     "output_type": "display_data"
    },
    {
     "data": {
      "application/vnd.jupyter.widget-view+json": {
       "model_id": "44c38b1df5e14865b77f908b073dc3d4",
       "version_major": 2,
       "version_minor": 0
      },
      "text/plain": [
       "Export report to file:   0%|          | 0/1 [00:00<?, ?it/s]"
      ]
     },
     "metadata": {},
     "output_type": "display_data"
    }
   ],
   "source": [
    "#TV_Maze_Show.describe()\n",
    "try:\n",
    "  os.mkdir(RutaJSON+'\\profiling')\n",
    "except:\n",
    "  print(\"El archivo ya existe en la ruta\")\n",
    "\n",
    "profile2 = ProfileReport(TV_Maze_Show, title='Modelo TV Maze Shows', html={'style':{'full_witdth':True}})\n",
    "profile2.to_file(RutaJSON+'\\profiling'+'\\Reporte TV Maze Shows'+\".html\")"
   ]
  },
  {
   "cell_type": "markdown",
   "metadata": {},
   "source": [
    "#### En base al reporte de datos de TV_Maze Shows\n",
    "Se encuentra un DF con una nutrida cantidad de datos. A partir del cual se encuentra que este dataset será especialmente útil para el punto 6 de este informe. Ya que contiene Runtime, type, gender, name, rating. El dato de *country* no se encuentra en ninguno de los dataframes actuales, sin embargo si existe webChannel.country.name. "
   ]
  },
  {
   "cell_type": "markdown",
   "metadata": {
    "colab": {
     "base_uri": "https://localhost:8080/"
    },
    "id": "kBuqQXyYaoCE",
    "outputId": "70277907-466c-4f9a-9456-f0dc89be763b"
   },
   "source": [
    "# 5. Creación generar una BBDD con SQLite para los dataframes."
   ]
  },
  {
   "cell_type": "code",
   "execution_count": 35,
   "metadata": {
    "id": "2QW2PdaMluyN"
   },
   "outputs": [
    {
     "name": "stdout",
     "output_type": "stream",
     "text": [
      "El directorio ya existe en la ruta\n"
     ]
    }
   ],
   "source": [
    "try:\n",
    "  os.mkdir(RutaJSON+'\\db')\n",
    "except:\n",
    "  print(\"El directorio ya existe en la ruta\")\n",
    "\n",
    "conn = sqlite3.connect(RutaJSON+'\\db'+'\\TV_Maze.db')"
   ]
  },
  {
   "cell_type": "code",
   "execution_count": null,
   "metadata": {
    "id": "oXrEwjR3nSBj"
   },
   "outputs": [],
   "source": [
    "pd.value_counts(TV_Maze['image'])"
   ]
  },
  {
   "cell_type": "code",
   "execution_count": 44,
   "metadata": {},
   "outputs": [
    {
     "name": "stdout",
     "output_type": "stream",
     "text": [
      "<class 'pandas.core.frame.DataFrame'>\n",
      "RangeIndex: 3061 entries, 0 to 3060\n",
      "Data columns (total 46 columns):\n",
      " #   Column                       Non-Null Count  Dtype  \n",
      "---  ------                       --------------  -----  \n",
      " 0   id                           3061 non-null   int64  \n",
      " 1   url                          3061 non-null   object \n",
      " 2   name                         3061 non-null   object \n",
      " 3   type                         3061 non-null   object \n",
      " 4   language                     3027 non-null   object \n",
      " 5   genres                       3061 non-null   object \n",
      " 6   status                       3061 non-null   object \n",
      " 7   runtime                      2054 non-null   float64\n",
      " 8   averageRuntime               2901 non-null   float64\n",
      " 9   premiered                    3061 non-null   object \n",
      " 10  ended                        1365 non-null   object \n",
      " 11  officialSite                 2663 non-null   object \n",
      " 12  weight                       3061 non-null   int64  \n",
      " 13  network                      0 non-null      float64\n",
      " 14  dvdCountry                   0 non-null      float64\n",
      " 15  summary                      2749 non-null   object \n",
      " 16  updated                      3061 non-null   int64  \n",
      " 17  schedule.time                3061 non-null   object \n",
      " 18  schedule.days                3061 non-null   object \n",
      " 19  rating.average               427 non-null    float64\n",
      " 20  webChannel.id                2980 non-null   float64\n",
      " 21  webChannel.name              2980 non-null   object \n",
      " 22  webChannel.country.name      1469 non-null   object \n",
      " 23  webChannel.country.code      1469 non-null   object \n",
      " 24  webChannel.country.timezone  1469 non-null   object \n",
      " 25  webChannel.officialSite      1815 non-null   object \n",
      " 26  externals.tvrage             57 non-null     float64\n",
      " 27  externals.thetvdb            2138 non-null   float64\n",
      " 28  externals.imdb               1601 non-null   object \n",
      " 29  image.medium                 2906 non-null   object \n",
      " 30  image.original               2906 non-null   object \n",
      " 31  _links.self.href             3061 non-null   object \n",
      " 32  _links.previousepisode.href  3061 non-null   object \n",
      " 33  network.id                   213 non-null    float64\n",
      " 34  network.name                 213 non-null    object \n",
      " 35  network.country.name         213 non-null    object \n",
      " 36  network.country.code         213 non-null    object \n",
      " 37  network.country.timezone     213 non-null    object \n",
      " 38  network.officialSite         7 non-null      object \n",
      " 39  _links.nextepisode.href      175 non-null    object \n",
      " 40  webChannel                   0 non-null      float64\n",
      " 41  image                        0 non-null      float64\n",
      " 42  webChannel.country           0 non-null      float64\n",
      " 43  dvdCountry.name              27 non-null     object \n",
      " 44  dvdCountry.code              27 non-null     object \n",
      " 45  dvdCountry.timezone          27 non-null     object \n",
      "dtypes: float64(12), int64(3), object(31)\n",
      "memory usage: 1.1+ MB\n",
      "<class 'pandas.core.frame.DataFrame'>\n",
      "Int64Index: 3061 entries, 0 to 130\n",
      "Data columns (total 15 columns):\n",
      " #   Column     Non-Null Count  Dtype  \n",
      "---  ------     --------------  -----  \n",
      " 0   id         3061 non-null   int64  \n",
      " 1   url        3061 non-null   object \n",
      " 2   name       3061 non-null   object \n",
      " 3   season     3061 non-null   int64  \n",
      " 4   number     2980 non-null   float64\n",
      " 5   type       3061 non-null   object \n",
      " 6   airdate    3061 non-null   object \n",
      " 7   airtime    3061 non-null   object \n",
      " 8   airstamp   3061 non-null   object \n",
      " 9   runtime    2842 non-null   float64\n",
      " 10  rating     3061 non-null   object \n",
      " 11  image      1023 non-null   object \n",
      " 12  summary    892 non-null    object \n",
      " 13  _links     3061 non-null   object \n",
      " 14  _embedded  3061 non-null   object \n",
      "dtypes: float64(2), int64(2), object(11)\n",
      "memory usage: 382.6+ KB\n"
     ]
    }
   ],
   "source": [
    "TV_Maze_Show.info()\n",
    "\n",
    "TV_Maze.info()"
   ]
  },
  {
   "cell_type": "markdown",
   "metadata": {},
   "source": [
    "# 6. Información Solicitada"
   ]
  },
  {
   "cell_type": "code",
   "execution_count": 92,
   "metadata": {},
   "outputs": [
    {
     "name": "stdout",
     "output_type": "stream",
     "text": [
      "A continuación se presentan las cantidades por tipo para el promedio en base al runtime\n",
      "type\n",
      "Animation       13.919014\n",
      "Award Show     258.000000\n",
      "Documentary     31.913333\n",
      "Game Show       69.589744\n",
      "News           112.173913\n",
      "Panel Show      45.000000\n",
      "Reality         37.711864\n",
      "Scripted        36.451101\n",
      "Sports         107.054795\n",
      "Talk Show       42.013514\n",
      "Variety         27.870370\n",
      "Name: runtime, dtype: float64\n",
      "\n",
      "A continuación se presentan las cantidades por tipo para el promedio en base al AverageRuntime\n",
      "type\n",
      "Animation       14.603989\n",
      "Award Show     261.600000\n",
      "Documentary     29.733542\n",
      "Game Show       66.837209\n",
      "News           108.153846\n",
      "Panel Show      45.000000\n",
      "Reality         40.585062\n",
      "Scripted        35.886168\n",
      "Sports          96.162162\n",
      "Talk Show       40.561983\n",
      "Variety         26.918033\n",
      "Name: averageRuntime, dtype: float64\n"
     ]
    }
   ],
   "source": [
    "PA=TV_Maze_Show.groupby(TV_Maze_Show['type']).mean()\n",
    "print('A continuación se presentan las cantidades por tipo para el promedio en base al runtime')\n",
    "print(PA['runtime'])\n",
    "\n",
    "print('\\n'+'A continuación se presentan las cantidades por tipo para el promedio en base al AverageRuntime')\n",
    "print(PA['averageRuntime'])\n",
    "\n",
    "#pd.crosstab(index=TV_Maze_Show['type'],\n",
    "#           columns=TV_Maze_Show['runtime'],margins=True)"
   ]
  },
  {
   "cell_type": "code",
   "execution_count": 180,
   "metadata": {},
   "outputs": [],
   "source": [
    "#Se requiere eliminar los corchetes cuadrados y generar datos.\n",
    "#Es un vector de datos, no un String\n",
    "\n",
    "#TV_Maze_Show[\"genres\"].tolist()\n",
    "\n",
    "\n",
    "    # Cantidad de series emitidas por genero."
   ]
  },
  {
   "cell_type": "code",
   "execution_count": null,
   "metadata": {},
   "outputs": [],
   "source": []
  },
  {
   "cell_type": "markdown",
   "metadata": {},
   "source": [
    "### %Series emitidas por Pais"
   ]
  },
  {
   "cell_type": "code",
   "execution_count": 112,
   "metadata": {
    "scrolled": true
   },
   "outputs": [
    {
     "name": "stdout",
     "output_type": "stream",
     "text": [
      "A continuación se presenta el % serie emitidas por Pais en el mes de de diciembre de 2020\n",
      "\n"
     ]
    },
    {
     "data": {
      "text/plain": [
       "<AxesSubplot:title={'center':'Datos por País'}, ylabel='webChannel.country.name'>"
      ]
     },
     "execution_count": 112,
     "metadata": {},
     "output_type": "execute_result"
    },
    {
     "data": {
      "image/png": "[encoded data removed]",
      "text/plain": [
       "<Figure size 576x576 with 1 Axes>"
      ]
     },
     "metadata": {},
     "output_type": "display_data"
    }
   ],
   "source": [
    " #Porcenteje del pais respecto a las series emitidas\n",
    "print('A continuación se presenta el % serie emitidas por Pais en el mes de de diciembre de 2020' +'\\n')\n",
    "#print(TV_Maze_Show['webChannel.country.name'].value_counts() / len(TV_Maze_Show['webChannel.country.name'])*100)\n",
    "\n",
    "plot= TV_Maze_Show['webChannel.country.name'].value_counts().plot(kind='pie', autopct='%.2f',\n",
    "                                                                figsize=(8,8),\n",
    "                                                                title='Datos por País')\n",
    "plot"
   ]
  },
  {
   "cell_type": "markdown",
   "metadata": {},
   "source": [
    "#### D. Rating promedio de series por país y género por mes"
   ]
  },
  {
   "cell_type": "code",
   "execution_count": null,
   "metadata": {},
   "outputs": [],
   "source": []
  },
  {
   "cell_type": "code",
   "execution_count": null,
   "metadata": {},
   "outputs": [],
   "source": []
  }
 ],
 "metadata": {
  "colab": {
   "collapsed_sections": [],
   "name": "LuloTP.ipynb",
   "provenance": []
  },
  "kernelspec": {
   "display_name": "Python 3 (ipykernel)",
   "language": "python",
   "name": "python3"
  },
  "language_info": {
   "codemirror_mode": {
    "name": "ipython",
    "version": 3
   },
   "file_extension": ".py",
   "mimetype": "text/x-python",
   "name": "python",
   "nbconvert_exporter": "python",
   "pygments_lexer": "ipython3",
   "version": "3.9.12"
  }
 },
 "nbformat": 4,
 "nbformat_minor": 1
}
