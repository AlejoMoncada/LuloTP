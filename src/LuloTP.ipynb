{
 "cells": [
  {
   "cell_type": "code",
   "execution_count": 1,
   "metadata": {
    "id": "Jizly7B7yF41"
   },
   "outputs": [],
   "source": [
    "import pandas as pd\n",
    "import numpy as np\n",
    "import glob \n",
    "import altair as alt\n",
    "import sqlite3\n",
    "#import pandas_profiling import ProfileReport"
   ]
  },
  {
   "cell_type": "code",
   "execution_count": 2,
   "metadata": {
    "colab": {
     "base_uri": "https://localhost:8080/"
    },
    "id": "vLuoXFvbyMFZ",
    "outputId": "af99e768-8594-484d-a7ee-840c9fec64dc"
   },
   "outputs": [
    {
     "name": "stdout",
     "output_type": "stream",
     "text": [
      "http://api.tvmaze.com/schedule/web?date=2020-12-01 Export Complete\n",
      "http://api.tvmaze.com/schedule/web?date=2020-12-02 Export Complete\n",
      "http://api.tvmaze.com/schedule/web?date=2020-12-03 Export Complete\n",
      "http://api.tvmaze.com/schedule/web?date=2020-12-04 Export Complete\n",
      "http://api.tvmaze.com/schedule/web?date=2020-12-05 Export Complete\n",
      "http://api.tvmaze.com/schedule/web?date=2020-12-06 Export Complete\n",
      "http://api.tvmaze.com/schedule/web?date=2020-12-07 Export Complete\n",
      "http://api.tvmaze.com/schedule/web?date=2020-12-08 Export Complete\n",
      "http://api.tvmaze.com/schedule/web?date=2020-12-09 Export Complete\n",
      "http://api.tvmaze.com/schedule/web?date=2020-12-10 Export Complete\n",
      "http://api.tvmaze.com/schedule/web?date=2020-12-11 Export Complete\n",
      "http://api.tvmaze.com/schedule/web?date=2020-12-12 Export Complete\n",
      "http://api.tvmaze.com/schedule/web?date=2020-12-13 Export Complete\n",
      "http://api.tvmaze.com/schedule/web?date=2020-12-14 Export Complete\n",
      "http://api.tvmaze.com/schedule/web?date=2020-12-15 Export Complete\n",
      "http://api.tvmaze.com/schedule/web?date=2020-12-16 Export Complete\n",
      "http://api.tvmaze.com/schedule/web?date=2020-12-17 Export Complete\n",
      "http://api.tvmaze.com/schedule/web?date=2020-12-18 Export Complete\n",
      "http://api.tvmaze.com/schedule/web?date=2020-12-19 Export Complete\n",
      "http://api.tvmaze.com/schedule/web?date=2020-12-20 Export Complete\n",
      "http://api.tvmaze.com/schedule/web?date=2020-12-21 Export Complete\n",
      "http://api.tvmaze.com/schedule/web?date=2020-12-22 Export Complete\n",
      "http://api.tvmaze.com/schedule/web?date=2020-12-23 Export Complete\n",
      "http://api.tvmaze.com/schedule/web?date=2020-12-24 Export Complete\n",
      "http://api.tvmaze.com/schedule/web?date=2020-12-25 Export Complete\n",
      "http://api.tvmaze.com/schedule/web?date=2020-12-26 Export Complete\n",
      "http://api.tvmaze.com/schedule/web?date=2020-12-27 Export Complete\n",
      "http://api.tvmaze.com/schedule/web?date=2020-12-28 Export Complete\n",
      "http://api.tvmaze.com/schedule/web?date=2020-12-29 Export Complete\n",
      "http://api.tvmaze.com/schedule/web?date=2020-12-30 Export Complete\n",
      "http://api.tvmaze.com/schedule/web?date=2020-12-31 Export Complete\n"
     ]
    }
   ],
   "source": [
    "from pandas.core.reshape.merge import string\n",
    "#Se inicia con la obtención de los datos para el presente mes de 2022-12-*\n",
    "path_base =\"http://api.tvmaze.com/schedule/web?date=2020-12-\"\n",
    "archivo= pd.read_json(path_base +\"01\")\n",
    "\n",
    "RutaJSON=r\"C:\\Users\\Alejandro Moncada\\Documents\\LuloTP\\json\"\n",
    "\n",
    "#array=np.empty(31, str)\n",
    "#se usa el Zfill para agregar digito falante a los datos <10.\n",
    "for ix in range(31):\n",
    "  #pd.read_json\n",
    "  df=pd.read_json(path_base +str(ix+1).zfill(2))\n",
    "  df.to_json(RutaJSON+'\\TV_Maze'+str(ix+1).zfill(2)+\".json\")\n",
    "  print(path_base +str(ix+1).zfill(2) + ' Export Complete')"
   ]
  },
  {
   "cell_type": "code",
   "execution_count": 3,
   "metadata": {
    "id": "741PJWdwyljB"
   },
   "outputs": [],
   "source": [
    "rutas = glob.glob(RutaJSON+\"\\TV_Maze*\"+\".json\")\n",
    "partes_glob = [pd.read_json(ruta) for ruta in rutas]\n",
    "TV_Maze = pd.concat(partes_glob)"
   ]
  },
  {
   "cell_type": "code",
   "execution_count": 4,
   "metadata": {
    "id": "wL2SYdwEzEhv"
   },
   "outputs": [
    {
     "data": {
      "text/plain": [
       "array(['id', 'url', 'name', 'season', 'number', 'type', 'airdate',\n",
       "       'airtime', 'airstamp', 'runtime', 'rating', 'image', 'summary',\n",
       "       '_links', '_embedded'], dtype=object)"
      ]
     },
     "execution_count": 4,
     "metadata": {},
     "output_type": "execute_result"
    }
   ],
   "source": [
    "TV_Maze.columns.values"
   ]
  },
  {
   "cell_type": "code",
   "execution_count": 5,
   "metadata": {
    "colab": {
     "base_uri": "https://localhost:8080/"
    },
    "id": "A8nyUgQxzkzo",
    "outputId": "845afb6a-4d09-4e8a-be2e-7495a128eff6"
   },
   "outputs": [
    {
     "data": {
      "text/html": [
       "<div>\n",
       "<style scoped>\n",
       "    .dataframe tbody tr th:only-of-type {\n",
       "        vertical-align: middle;\n",
       "    }\n",
       "\n",
       "    .dataframe tbody tr th {\n",
       "        vertical-align: top;\n",
       "    }\n",
       "\n",
       "    .dataframe thead th {\n",
       "        text-align: right;\n",
       "    }\n",
       "</style>\n",
       "<table border=\"1\" class=\"dataframe\">\n",
       "  <thead>\n",
       "    <tr style=\"text-align: right;\">\n",
       "      <th></th>\n",
       "      <th>id</th>\n",
       "      <th>url</th>\n",
       "      <th>name</th>\n",
       "      <th>season</th>\n",
       "      <th>number</th>\n",
       "      <th>type</th>\n",
       "      <th>airdate</th>\n",
       "      <th>airtime</th>\n",
       "      <th>airstamp</th>\n",
       "      <th>runtime</th>\n",
       "      <th>rating</th>\n",
       "      <th>image</th>\n",
       "      <th>summary</th>\n",
       "      <th>_links</th>\n",
       "      <th>_embedded</th>\n",
       "    </tr>\n",
       "  </thead>\n",
       "  <tbody>\n",
       "    <tr>\n",
       "      <th>0</th>\n",
       "      <td>1979824</td>\n",
       "      <td>https://www.tvmaze.com/episodes/1979824/sim-fo...</td>\n",
       "      <td>Chanyeol's Episode 16</td>\n",
       "      <td>4</td>\n",
       "      <td>16.0</td>\n",
       "      <td>regular</td>\n",
       "      <td>2020-12-01</td>\n",
       "      <td>06:00</td>\n",
       "      <td>2020-11-30T21:00:00+00:00</td>\n",
       "      <td>16.0</td>\n",
       "      <td>{'average': None}</td>\n",
       "      <td>None</td>\n",
       "      <td>&lt;p&gt;&lt;b&gt;#ObtainedAConversationalSkill #WeSetUpAT...</td>\n",
       "      <td>{'self': {'href': 'https://api.tvmaze.com/epis...</td>\n",
       "      <td>{'show': {'id': 41648, 'url': 'https://www.tvm...</td>\n",
       "    </tr>\n",
       "    <tr>\n",
       "      <th>1</th>\n",
       "      <td>1979222</td>\n",
       "      <td>https://www.tvmaze.com/episodes/1979222/kotiki...</td>\n",
       "      <td>Серия 2</td>\n",
       "      <td>1</td>\n",
       "      <td>2.0</td>\n",
       "      <td>regular</td>\n",
       "      <td>2020-12-01</td>\n",
       "      <td></td>\n",
       "      <td>2020-12-01T00:00:00+00:00</td>\n",
       "      <td>12.0</td>\n",
       "      <td>{'average': None}</td>\n",
       "      <td>None</td>\n",
       "      <td>None</td>\n",
       "      <td>{'self': {'href': 'https://api.tvmaze.com/epis...</td>\n",
       "      <td>{'show': {'id': 52198, 'url': 'https://www.tvm...</td>\n",
       "    </tr>\n",
       "    <tr>\n",
       "      <th>2</th>\n",
       "      <td>2008027</td>\n",
       "      <td>https://www.tvmaze.com/episodes/2008027/lab-s-...</td>\n",
       "      <td>Лолита</td>\n",
       "      <td>2</td>\n",
       "      <td>6.0</td>\n",
       "      <td>regular</td>\n",
       "      <td>2020-12-01</td>\n",
       "      <td></td>\n",
       "      <td>2020-12-01T00:00:00+00:00</td>\n",
       "      <td>29.0</td>\n",
       "      <td>{'average': None}</td>\n",
       "      <td>{'medium': 'https://static.tvmaze.com/uploads/...</td>\n",
       "      <td>None</td>\n",
       "      <td>{'self': {'href': 'https://api.tvmaze.com/epis...</td>\n",
       "      <td>{'show': {'id': 52933, 'url': 'https://www.tvm...</td>\n",
       "    </tr>\n",
       "    <tr>\n",
       "      <th>3</th>\n",
       "      <td>1964565</td>\n",
       "      <td>https://www.tvmaze.com/episodes/1964565/core-s...</td>\n",
       "      <td>Episode 9</td>\n",
       "      <td>1</td>\n",
       "      <td>9.0</td>\n",
       "      <td>regular</td>\n",
       "      <td>2020-12-01</td>\n",
       "      <td>10:00</td>\n",
       "      <td>2020-12-01T02:00:00+00:00</td>\n",
       "      <td>24.0</td>\n",
       "      <td>{'average': None}</td>\n",
       "      <td>None</td>\n",
       "      <td>None</td>\n",
       "      <td>{'self': {'href': 'https://api.tvmaze.com/epis...</td>\n",
       "      <td>{'show': {'id': 51336, 'url': 'https://www.tvm...</td>\n",
       "    </tr>\n",
       "    <tr>\n",
       "      <th>4</th>\n",
       "      <td>2052503</td>\n",
       "      <td>https://www.tvmaze.com/episodes/2052503/wu-she...</td>\n",
       "      <td>Episode 80</td>\n",
       "      <td>1</td>\n",
       "      <td>80.0</td>\n",
       "      <td>regular</td>\n",
       "      <td>2020-12-01</td>\n",
       "      <td>10:00</td>\n",
       "      <td>2020-12-01T02:00:00+00:00</td>\n",
       "      <td>8.0</td>\n",
       "      <td>{'average': None}</td>\n",
       "      <td>None</td>\n",
       "      <td>None</td>\n",
       "      <td>{'self': {'href': 'https://api.tvmaze.com/epis...</td>\n",
       "      <td>{'show': {'id': 54033, 'url': 'https://www.tvm...</td>\n",
       "    </tr>\n",
       "  </tbody>\n",
       "</table>\n",
       "</div>"
      ],
      "text/plain": [
       "        id                                                url  \\\n",
       "0  1979824  https://www.tvmaze.com/episodes/1979824/sim-fo...   \n",
       "1  1979222  https://www.tvmaze.com/episodes/1979222/kotiki...   \n",
       "2  2008027  https://www.tvmaze.com/episodes/2008027/lab-s-...   \n",
       "3  1964565  https://www.tvmaze.com/episodes/1964565/core-s...   \n",
       "4  2052503  https://www.tvmaze.com/episodes/2052503/wu-she...   \n",
       "\n",
       "                    name  season  number     type     airdate airtime  \\\n",
       "0  Chanyeol's Episode 16       4    16.0  regular  2020-12-01   06:00   \n",
       "1                Серия 2       1     2.0  regular  2020-12-01           \n",
       "2                 Лолита       2     6.0  regular  2020-12-01           \n",
       "3              Episode 9       1     9.0  regular  2020-12-01   10:00   \n",
       "4             Episode 80       1    80.0  regular  2020-12-01   10:00   \n",
       "\n",
       "                    airstamp  runtime             rating  \\\n",
       "0  2020-11-30T21:00:00+00:00     16.0  {'average': None}   \n",
       "1  2020-12-01T00:00:00+00:00     12.0  {'average': None}   \n",
       "2  2020-12-01T00:00:00+00:00     29.0  {'average': None}   \n",
       "3  2020-12-01T02:00:00+00:00     24.0  {'average': None}   \n",
       "4  2020-12-01T02:00:00+00:00      8.0  {'average': None}   \n",
       "\n",
       "                                               image  \\\n",
       "0                                               None   \n",
       "1                                               None   \n",
       "2  {'medium': 'https://static.tvmaze.com/uploads/...   \n",
       "3                                               None   \n",
       "4                                               None   \n",
       "\n",
       "                                             summary  \\\n",
       "0  <p><b>#ObtainedAConversationalSkill #WeSetUpAT...   \n",
       "1                                               None   \n",
       "2                                               None   \n",
       "3                                               None   \n",
       "4                                               None   \n",
       "\n",
       "                                              _links  \\\n",
       "0  {'self': {'href': 'https://api.tvmaze.com/epis...   \n",
       "1  {'self': {'href': 'https://api.tvmaze.com/epis...   \n",
       "2  {'self': {'href': 'https://api.tvmaze.com/epis...   \n",
       "3  {'self': {'href': 'https://api.tvmaze.com/epis...   \n",
       "4  {'self': {'href': 'https://api.tvmaze.com/epis...   \n",
       "\n",
       "                                           _embedded  \n",
       "0  {'show': {'id': 41648, 'url': 'https://www.tvm...  \n",
       "1  {'show': {'id': 52198, 'url': 'https://www.tvm...  \n",
       "2  {'show': {'id': 52933, 'url': 'https://www.tvm...  \n",
       "3  {'show': {'id': 51336, 'url': 'https://www.tvm...  \n",
       "4  {'show': {'id': 54033, 'url': 'https://www.tvm...  "
      ]
     },
     "execution_count": 5,
     "metadata": {},
     "output_type": "execute_result"
    }
   ],
   "source": [
    "TV_Maze.head(5)\n",
    "\n",
    "#pd.drop(TV_Maze['id','airestamp','_links','_embedded','summary','image','url'])\n"
   ]
  },
  {
   "cell_type": "code",
   "execution_count": 6,
   "metadata": {
    "colab": {
     "base_uri": "https://localhost:8080/"
    },
    "id": "kBuqQXyYaoCE",
    "outputId": "70277907-466c-4f9a-9456-f0dc89be763b"
   },
   "outputs": [
    {
     "ename": "SyntaxError",
     "evalue": "invalid syntax (649786187.py, line 10)",
     "output_type": "error",
     "traceback": [
      "\u001b[1;36m  Input \u001b[1;32mIn [6]\u001b[1;36m\u001b[0m\n\u001b[1;33m    TV_Regular=TV_Maze['type'].str.contains(['regular']) TV_Maze['runtime'].median()\u001b[0m\n\u001b[1;37m                                                         ^\u001b[0m\n\u001b[1;31mSyntaxError\u001b[0m\u001b[1;31m:\u001b[0m invalid syntax\n"
     ]
    }
   ],
   "source": [
    "#Distribución de Fechas\n",
    "plot = TV_Maze['type'].value_counts().plot(kind='pie',autopct='%.2f',\n",
    "                                           figsize=(4,6),\n",
    "                                           title='Distribución por Tipo de programa') \n",
    "plot\n",
    "\n",
    "\n",
    "TV_Maze['runtime'].median()\n",
    "\n",
    "TV_Regular=TV_Maze['type'].str.contains(['regular']) TV_Maze['runtime'].median()\n",
    "\n",
    "TV_Special=TV_Maze['type'].str.contains(['insignificant_special']) TV_Maze['runtime'].median()\n",
    "\n",
    "TV_Special_Insignificant=TV_Maze['type'].str.contains(['significant_special']) TV_Maze['runtime'].median()"
   ]
  },
  {
   "cell_type": "code",
   "execution_count": null,
   "metadata": {
    "id": "2QW2PdaMluyN"
   },
   "outputs": [],
   "source": [
    "AverageRuntime = pd.crosstab(index=TV_Maze['runtime'],\n",
    "            columns=TV_Maze['type'])\n",
    "AverageRuntime"
   ]
  },
  {
   "cell_type": "code",
   "execution_count": null,
   "metadata": {
    "id": "oXrEwjR3nSBj"
   },
   "outputs": [],
   "source": [
    "pd.value_counts(TV_Maze['image'])"
   ]
  },
  {
   "cell_type": "code",
   "execution_count": null,
   "metadata": {},
   "outputs": [],
   "source": [
    "#TV_Maze=(TV_Maze['type'].str.contains('regular'))\n",
    "Regular=TV_Maze.loc[TV_Maze['type'] == 'significant_special']\n",
    "ISpecial=TV_Maze.loc[TV_Maze['type'] == 'insignificant_special']\n",
    "Special=TV_Maze.loc[TV_Maze['type'] == 'regular']\n"
   ]
  },
  {
   "cell_type": "markdown",
   "metadata": {},
   "source": [
    "###### 6.A. Average Value from data Regular, Significant_Special and Significant_Special on type"
   ]
  },
  {
   "cell_type": "code",
   "execution_count": null,
   "metadata": {},
   "outputs": [],
   "source": [
    "Special['runtime'].mean()"
   ]
  },
  {
   "cell_type": "code",
   "execution_count": null,
   "metadata": {},
   "outputs": [],
   "source": [
    "ISpecial['runtime'].mean()"
   ]
  },
  {
   "cell_type": "code",
   "execution_count": null,
   "metadata": {},
   "outputs": [],
   "source": [
    "Special['runtime'].mean()"
   ]
  },
  {
   "cell_type": "code",
   "execution_count": null,
   "metadata": {},
   "outputs": [],
   "source": [
    "SCFull = pd.read_json(\"https://api.tvmaze.com/schedule/full\")"
   ]
  },
  {
   "cell_type": "code",
   "execution_count": 7,
   "metadata": {},
   "outputs": [
    {
     "data": {
      "text/html": [
       "<div>\n",
       "<style scoped>\n",
       "    .dataframe tbody tr th:only-of-type {\n",
       "        vertical-align: middle;\n",
       "    }\n",
       "\n",
       "    .dataframe tbody tr th {\n",
       "        vertical-align: top;\n",
       "    }\n",
       "\n",
       "    .dataframe thead th {\n",
       "        text-align: right;\n",
       "    }\n",
       "</style>\n",
       "<table border=\"1\" class=\"dataframe\">\n",
       "  <thead>\n",
       "    <tr style=\"text-align: right;\">\n",
       "      <th></th>\n",
       "      <th>id</th>\n",
       "      <th>season</th>\n",
       "      <th>number</th>\n",
       "      <th>runtime</th>\n",
       "    </tr>\n",
       "  </thead>\n",
       "  <tbody>\n",
       "    <tr>\n",
       "      <th>count</th>\n",
       "      <td>3.061000e+03</td>\n",
       "      <td>3061.000000</td>\n",
       "      <td>2980.000000</td>\n",
       "      <td>2842.000000</td>\n",
       "    </tr>\n",
       "    <tr>\n",
       "      <th>mean</th>\n",
       "      <td>2.032698e+06</td>\n",
       "      <td>147.568442</td>\n",
       "      <td>23.364765</td>\n",
       "      <td>37.661506</td>\n",
       "    </tr>\n",
       "    <tr>\n",
       "      <th>std</th>\n",
       "      <td>9.652817e+04</td>\n",
       "      <td>521.158593</td>\n",
       "      <td>51.625776</td>\n",
       "      <td>30.063129</td>\n",
       "    </tr>\n",
       "    <tr>\n",
       "      <th>min</th>\n",
       "      <td>1.732625e+06</td>\n",
       "      <td>1.000000</td>\n",
       "      <td>1.000000</td>\n",
       "      <td>1.000000</td>\n",
       "    </tr>\n",
       "    <tr>\n",
       "      <th>25%</th>\n",
       "      <td>1.978261e+06</td>\n",
       "      <td>1.000000</td>\n",
       "      <td>4.000000</td>\n",
       "      <td>19.000000</td>\n",
       "    </tr>\n",
       "    <tr>\n",
       "      <th>50%</th>\n",
       "      <td>1.990187e+06</td>\n",
       "      <td>1.000000</td>\n",
       "      <td>8.000000</td>\n",
       "      <td>31.500000</td>\n",
       "    </tr>\n",
       "    <tr>\n",
       "      <th>75%</th>\n",
       "      <td>2.039619e+06</td>\n",
       "      <td>3.000000</td>\n",
       "      <td>20.000000</td>\n",
       "      <td>45.000000</td>\n",
       "    </tr>\n",
       "    <tr>\n",
       "      <th>max</th>\n",
       "      <td>2.380808e+06</td>\n",
       "      <td>2020.000000</td>\n",
       "      <td>358.000000</td>\n",
       "      <td>335.000000</td>\n",
       "    </tr>\n",
       "  </tbody>\n",
       "</table>\n",
       "</div>"
      ],
      "text/plain": [
       "                 id       season       number      runtime\n",
       "count  3.061000e+03  3061.000000  2980.000000  2842.000000\n",
       "mean   2.032698e+06   147.568442    23.364765    37.661506\n",
       "std    9.652817e+04   521.158593    51.625776    30.063129\n",
       "min    1.732625e+06     1.000000     1.000000     1.000000\n",
       "25%    1.978261e+06     1.000000     4.000000    19.000000\n",
       "50%    1.990187e+06     1.000000     8.000000    31.500000\n",
       "75%    2.039619e+06     3.000000    20.000000    45.000000\n",
       "max    2.380808e+06  2020.000000   358.000000   335.000000"
      ]
     },
     "execution_count": 7,
     "metadata": {},
     "output_type": "execute_result"
    }
   ],
   "source": [
    "TV_Maze.describe()"
   ]
  },
  {
   "cell_type": "code",
   "execution_count": 15,
   "metadata": {},
   "outputs": [
    {
     "ename": "ImportError",
     "evalue": "cannot import name 'ABCIndexClass' from 'pandas.core.dtypes.generic' (C:\\Users\\Alejandro Moncada\\anaconda3\\lib\\site-packages\\pandas\\core\\dtypes\\generic.py)",
     "output_type": "error",
     "traceback": [
      "\u001b[1;31m---------------------------------------------------------------------------\u001b[0m",
      "\u001b[1;31mImportError\u001b[0m                               Traceback (most recent call last)",
      "Input \u001b[1;32mIn [15]\u001b[0m, in \u001b[0;36m<cell line: 1>\u001b[1;34m()\u001b[0m\n\u001b[1;32m----> 1\u001b[0m \u001b[38;5;28;01mimport\u001b[39;00m \u001b[38;5;21;01mpandas_profiling\u001b[39;00m\n\u001b[0;32m      2\u001b[0m \u001b[38;5;28;01mfrom\u001b[39;00m \u001b[38;5;21;01mpandas_profiling\u001b[39;00m\u001b[38;5;21;01m.\u001b[39;00m\u001b[38;5;21;01mutils\u001b[39;00m\u001b[38;5;21;01m.\u001b[39;00m\u001b[38;5;21;01mcache\u001b[39;00m \u001b[38;5;28;01mimport\u001b[39;00m cache_file\n",
      "File \u001b[1;32m~\\anaconda3\\lib\\site-packages\\pandas_profiling\\__init__.py:7\u001b[0m, in \u001b[0;36m<module>\u001b[1;34m\u001b[0m\n\u001b[0;32m      1\u001b[0m \u001b[38;5;124;03m\"\"\"Main module of pandas-profiling.\u001b[39;00m\n\u001b[0;32m      2\u001b[0m \n\u001b[0;32m      3\u001b[0m \u001b[38;5;124;03m.. include:: ../../README.md\u001b[39;00m\n\u001b[0;32m      4\u001b[0m \u001b[38;5;124;03m\"\"\"\u001b[39;00m\n\u001b[0;32m      6\u001b[0m \u001b[38;5;28;01mfrom\u001b[39;00m \u001b[38;5;21;01mpandas_profiling\u001b[39;00m\u001b[38;5;21;01m.\u001b[39;00m\u001b[38;5;21;01mconfig\u001b[39;00m \u001b[38;5;28;01mimport\u001b[39;00m Config, config\n\u001b[1;32m----> 7\u001b[0m \u001b[38;5;28;01mfrom\u001b[39;00m \u001b[38;5;21;01mpandas_profiling\u001b[39;00m\u001b[38;5;21;01m.\u001b[39;00m\u001b[38;5;21;01mcontroller\u001b[39;00m \u001b[38;5;28;01mimport\u001b[39;00m pandas_decorator\n\u001b[0;32m      8\u001b[0m \u001b[38;5;28;01mfrom\u001b[39;00m \u001b[38;5;21;01mpandas_profiling\u001b[39;00m\u001b[38;5;21;01m.\u001b[39;00m\u001b[38;5;21;01mprofile_report\u001b[39;00m \u001b[38;5;28;01mimport\u001b[39;00m ProfileReport\n\u001b[0;32m      9\u001b[0m \u001b[38;5;28;01mfrom\u001b[39;00m \u001b[38;5;21;01mpandas_profiling\u001b[39;00m\u001b[38;5;21;01m.\u001b[39;00m\u001b[38;5;21;01mversion\u001b[39;00m \u001b[38;5;28;01mimport\u001b[39;00m __version__\n",
      "File \u001b[1;32m~\\anaconda3\\lib\\site-packages\\pandas_profiling\\controller\\pandas_decorator.py:4\u001b[0m, in \u001b[0;36m<module>\u001b[1;34m\u001b[0m\n\u001b[0;32m      1\u001b[0m \u001b[38;5;124;03m\"\"\"This file add the decorator on the DataFrame object.\"\"\"\u001b[39;00m\n\u001b[0;32m      2\u001b[0m \u001b[38;5;28;01mfrom\u001b[39;00m \u001b[38;5;21;01mpandas\u001b[39;00m \u001b[38;5;28;01mimport\u001b[39;00m DataFrame\n\u001b[1;32m----> 4\u001b[0m \u001b[38;5;28;01mfrom\u001b[39;00m \u001b[38;5;21;01mpandas_profiling\u001b[39;00m\u001b[38;5;21;01m.\u001b[39;00m\u001b[38;5;21;01m__init__\u001b[39;00m \u001b[38;5;28;01mimport\u001b[39;00m ProfileReport\n\u001b[0;32m      7\u001b[0m \u001b[38;5;28;01mdef\u001b[39;00m \u001b[38;5;21mprofile_report\u001b[39m(df, \u001b[38;5;241m*\u001b[39m\u001b[38;5;241m*\u001b[39mkwargs) \u001b[38;5;241m-\u001b[39m\u001b[38;5;241m>\u001b[39m ProfileReport:\n\u001b[0;32m      8\u001b[0m     \u001b[38;5;124;03m\"\"\"Profile a DataFrame.\u001b[39;00m\n\u001b[0;32m      9\u001b[0m \n\u001b[0;32m     10\u001b[0m \u001b[38;5;124;03m    Args:\u001b[39;00m\n\u001b[1;32m   (...)\u001b[0m\n\u001b[0;32m     15\u001b[0m \u001b[38;5;124;03m        A ProfileReport of the DataFrame.\u001b[39;00m\n\u001b[0;32m     16\u001b[0m \u001b[38;5;124;03m    \"\"\"\u001b[39;00m\n",
      "File \u001b[1;32m~\\anaconda3\\lib\\site-packages\\pandas_profiling\\__init__.py:8\u001b[0m, in \u001b[0;36m<module>\u001b[1;34m\u001b[0m\n\u001b[0;32m      6\u001b[0m \u001b[38;5;28;01mfrom\u001b[39;00m \u001b[38;5;21;01mpandas_profiling\u001b[39;00m\u001b[38;5;21;01m.\u001b[39;00m\u001b[38;5;21;01mconfig\u001b[39;00m \u001b[38;5;28;01mimport\u001b[39;00m Config, config\n\u001b[0;32m      7\u001b[0m \u001b[38;5;28;01mfrom\u001b[39;00m \u001b[38;5;21;01mpandas_profiling\u001b[39;00m\u001b[38;5;21;01m.\u001b[39;00m\u001b[38;5;21;01mcontroller\u001b[39;00m \u001b[38;5;28;01mimport\u001b[39;00m pandas_decorator\n\u001b[1;32m----> 8\u001b[0m \u001b[38;5;28;01mfrom\u001b[39;00m \u001b[38;5;21;01mpandas_profiling\u001b[39;00m\u001b[38;5;21;01m.\u001b[39;00m\u001b[38;5;21;01mprofile_report\u001b[39;00m \u001b[38;5;28;01mimport\u001b[39;00m ProfileReport\n\u001b[0;32m      9\u001b[0m \u001b[38;5;28;01mfrom\u001b[39;00m \u001b[38;5;21;01mpandas_profiling\u001b[39;00m\u001b[38;5;21;01m.\u001b[39;00m\u001b[38;5;21;01mversion\u001b[39;00m \u001b[38;5;28;01mimport\u001b[39;00m __version__\n\u001b[0;32m     11\u001b[0m clear_config \u001b[38;5;241m=\u001b[39m ProfileReport\u001b[38;5;241m.\u001b[39mclear_config\n",
      "File \u001b[1;32m~\\anaconda3\\lib\\site-packages\\pandas_profiling\\profile_report.py:11\u001b[0m, in \u001b[0;36m<module>\u001b[1;34m\u001b[0m\n\u001b[0;32m      8\u001b[0m \u001b[38;5;28;01mfrom\u001b[39;00m \u001b[38;5;21;01mtqdm\u001b[39;00m\u001b[38;5;21;01m.\u001b[39;00m\u001b[38;5;21;01mauto\u001b[39;00m \u001b[38;5;28;01mimport\u001b[39;00m tqdm\n\u001b[0;32m     10\u001b[0m \u001b[38;5;28;01mfrom\u001b[39;00m \u001b[38;5;21;01mpandas_profiling\u001b[39;00m\u001b[38;5;21;01m.\u001b[39;00m\u001b[38;5;21;01mconfig\u001b[39;00m \u001b[38;5;28;01mimport\u001b[39;00m config\n\u001b[1;32m---> 11\u001b[0m \u001b[38;5;28;01mfrom\u001b[39;00m \u001b[38;5;21;01mpandas_profiling\u001b[39;00m\u001b[38;5;21;01m.\u001b[39;00m\u001b[38;5;21;01mmodel\u001b[39;00m\u001b[38;5;21;01m.\u001b[39;00m\u001b[38;5;21;01mdescribe\u001b[39;00m \u001b[38;5;28;01mimport\u001b[39;00m describe \u001b[38;5;28;01mas\u001b[39;00m describe_df\n\u001b[0;32m     12\u001b[0m \u001b[38;5;28;01mfrom\u001b[39;00m \u001b[38;5;21;01mpandas_profiling\u001b[39;00m\u001b[38;5;21;01m.\u001b[39;00m\u001b[38;5;21;01mmodel\u001b[39;00m\u001b[38;5;21;01m.\u001b[39;00m\u001b[38;5;21;01mmessages\u001b[39;00m \u001b[38;5;28;01mimport\u001b[39;00m MessageType\n\u001b[0;32m     13\u001b[0m \u001b[38;5;28;01mfrom\u001b[39;00m \u001b[38;5;21;01mpandas_profiling\u001b[39;00m\u001b[38;5;21;01m.\u001b[39;00m\u001b[38;5;21;01mreport\u001b[39;00m \u001b[38;5;28;01mimport\u001b[39;00m get_report_structure\n",
      "File \u001b[1;32m~\\anaconda3\\lib\\site-packages\\pandas_profiling\\model\\describe.py:13\u001b[0m, in \u001b[0;36m<module>\u001b[1;34m\u001b[0m\n\u001b[0;32m     11\u001b[0m \u001b[38;5;28;01mfrom\u001b[39;00m \u001b[38;5;21;01mpandas_profiling\u001b[39;00m\u001b[38;5;21;01m.\u001b[39;00m\u001b[38;5;21;01mmodel\u001b[39;00m\u001b[38;5;21;01m.\u001b[39;00m\u001b[38;5;21;01mcorrelations\u001b[39;00m \u001b[38;5;28;01mimport\u001b[39;00m calculate_correlation\n\u001b[0;32m     12\u001b[0m \u001b[38;5;28;01mfrom\u001b[39;00m \u001b[38;5;21;01mpandas_profiling\u001b[39;00m\u001b[38;5;21;01m.\u001b[39;00m\u001b[38;5;21;01mmodel\u001b[39;00m\u001b[38;5;21;01m.\u001b[39;00m\u001b[38;5;21;01msample\u001b[39;00m \u001b[38;5;28;01mimport\u001b[39;00m Sample, get_sample\n\u001b[1;32m---> 13\u001b[0m \u001b[38;5;28;01mfrom\u001b[39;00m \u001b[38;5;21;01mpandas_profiling\u001b[39;00m\u001b[38;5;21;01m.\u001b[39;00m\u001b[38;5;21;01mmodel\u001b[39;00m\u001b[38;5;21;01m.\u001b[39;00m\u001b[38;5;21;01msummary\u001b[39;00m \u001b[38;5;28;01mimport\u001b[39;00m (\n\u001b[0;32m     14\u001b[0m     get_duplicates,\n\u001b[0;32m     15\u001b[0m     get_messages,\n\u001b[0;32m     16\u001b[0m     get_missing_diagrams,\n\u001b[0;32m     17\u001b[0m     get_scatter_matrix,\n\u001b[0;32m     18\u001b[0m     get_series_descriptions,\n\u001b[0;32m     19\u001b[0m     get_table_stats,\n\u001b[0;32m     20\u001b[0m )\n\u001b[0;32m     21\u001b[0m \u001b[38;5;28;01mfrom\u001b[39;00m \u001b[38;5;21;01mpandas_profiling\u001b[39;00m\u001b[38;5;21;01m.\u001b[39;00m\u001b[38;5;21;01mversion\u001b[39;00m \u001b[38;5;28;01mimport\u001b[39;00m __version__\n\u001b[0;32m     24\u001b[0m \u001b[38;5;28;01mdef\u001b[39;00m \u001b[38;5;21mdescribe\u001b[39m(title: \u001b[38;5;28mstr\u001b[39m, df: pd\u001b[38;5;241m.\u001b[39mDataFrame, sample: Optional[\u001b[38;5;28mdict\u001b[39m] \u001b[38;5;241m=\u001b[39m \u001b[38;5;28;01mNone\u001b[39;00m) \u001b[38;5;241m-\u001b[39m\u001b[38;5;241m>\u001b[39m \u001b[38;5;28mdict\u001b[39m:\n",
      "File \u001b[1;32m~\\anaconda3\\lib\\site-packages\\pandas_profiling\\model\\summary.py:14\u001b[0m, in \u001b[0;36m<module>\u001b[1;34m\u001b[0m\n\u001b[0;32m     12\u001b[0m \u001b[38;5;28;01mfrom\u001b[39;00m \u001b[38;5;21;01mpandas\u001b[39;00m\u001b[38;5;21;01m.\u001b[39;00m\u001b[38;5;21;01mcore\u001b[39;00m\u001b[38;5;21;01m.\u001b[39;00m\u001b[38;5;21;01marrays\u001b[39;00m\u001b[38;5;21;01m.\u001b[39;00m\u001b[38;5;21;01minteger\u001b[39;00m \u001b[38;5;28;01mimport\u001b[39;00m _IntegerDtype\n\u001b[0;32m     13\u001b[0m \u001b[38;5;28;01mfrom\u001b[39;00m \u001b[38;5;21;01mscipy\u001b[39;00m\u001b[38;5;21;01m.\u001b[39;00m\u001b[38;5;21;01mstats\u001b[39;00m\u001b[38;5;21;01m.\u001b[39;00m\u001b[38;5;21;01mstats\u001b[39;00m \u001b[38;5;28;01mimport\u001b[39;00m chisquare\n\u001b[1;32m---> 14\u001b[0m \u001b[38;5;28;01mfrom\u001b[39;00m \u001b[38;5;21;01mvisions\u001b[39;00m\u001b[38;5;21;01m.\u001b[39;00m\u001b[38;5;21;01mapplication\u001b[39;00m\u001b[38;5;21;01m.\u001b[39;00m\u001b[38;5;21;01msummaries\u001b[39;00m\u001b[38;5;21;01m.\u001b[39;00m\u001b[38;5;21;01mseries\u001b[39;00m \u001b[38;5;28;01mimport\u001b[39;00m (\n\u001b[0;32m     15\u001b[0m     file_summary,\n\u001b[0;32m     16\u001b[0m     image_summary,\n\u001b[0;32m     17\u001b[0m     path_summary,\n\u001b[0;32m     18\u001b[0m     url_summary,\n\u001b[0;32m     19\u001b[0m )\n\u001b[0;32m     20\u001b[0m \u001b[38;5;28;01mfrom\u001b[39;00m \u001b[38;5;21;01mvisions\u001b[39;00m\u001b[38;5;21;01m.\u001b[39;00m\u001b[38;5;21;01mapplication\u001b[39;00m\u001b[38;5;21;01m.\u001b[39;00m\u001b[38;5;21;01msummaries\u001b[39;00m\u001b[38;5;21;01m.\u001b[39;00m\u001b[38;5;21;01mseries\u001b[39;00m\u001b[38;5;21;01m.\u001b[39;00m\u001b[38;5;21;01mtext_summary\u001b[39;00m \u001b[38;5;28;01mimport\u001b[39;00m (\n\u001b[0;32m     21\u001b[0m     length_summary,\n\u001b[0;32m     22\u001b[0m     unicode_summary,\n\u001b[0;32m     23\u001b[0m )\n\u001b[0;32m     25\u001b[0m \u001b[38;5;28;01mfrom\u001b[39;00m \u001b[38;5;21;01mpandas_profiling\u001b[39;00m\u001b[38;5;21;01m.\u001b[39;00m\u001b[38;5;21;01mconfig\u001b[39;00m \u001b[38;5;28;01mimport\u001b[39;00m config \u001b[38;5;28;01mas\u001b[39;00m config\n",
      "File \u001b[1;32m~\\anaconda3\\lib\\site-packages\\visions\\__init__.py:3\u001b[0m, in \u001b[0;36m<module>\u001b[1;34m\u001b[0m\n\u001b[0;32m      1\u001b[0m \u001b[38;5;124;03m\"\"\"Core functionality\"\"\"\u001b[39;00m\n\u001b[0;32m      2\u001b[0m \u001b[38;5;28;01mfrom\u001b[39;00m \u001b[38;5;21;01mvisions\u001b[39;00m \u001b[38;5;28;01mimport\u001b[39;00m types, typesets, utils\n\u001b[1;32m----> 3\u001b[0m \u001b[38;5;28;01mfrom\u001b[39;00m \u001b[38;5;21;01mvisions\u001b[39;00m\u001b[38;5;21;01m.\u001b[39;00m\u001b[38;5;21;01mdtypes\u001b[39;00m\u001b[38;5;21;01m.\u001b[39;00m\u001b[38;5;21;01mboolean\u001b[39;00m \u001b[38;5;28;01mimport\u001b[39;00m BoolDtype\n\u001b[0;32m      4\u001b[0m \u001b[38;5;28;01mfrom\u001b[39;00m \u001b[38;5;21;01mvisions\u001b[39;00m\u001b[38;5;21;01m.\u001b[39;00m\u001b[38;5;21;01mfunctional\u001b[39;00m \u001b[38;5;28;01mimport\u001b[39;00m (\n\u001b[0;32m      5\u001b[0m     cast_to_detected,\n\u001b[0;32m      6\u001b[0m     cast_to_inferred,\n\u001b[0;32m      7\u001b[0m     detect_type,\n\u001b[0;32m      8\u001b[0m     infer_type,\n\u001b[0;32m      9\u001b[0m )\n\u001b[0;32m     10\u001b[0m \u001b[38;5;28;01mfrom\u001b[39;00m \u001b[38;5;21;01mvisions\u001b[39;00m\u001b[38;5;21;01m.\u001b[39;00m\u001b[38;5;21;01mtypes\u001b[39;00m \u001b[38;5;28;01mimport\u001b[39;00m \u001b[38;5;241m*\u001b[39m\n",
      "File \u001b[1;32m~\\anaconda3\\lib\\site-packages\\visions\\dtypes\\boolean.py:23\u001b[0m, in \u001b[0;36m<module>\u001b[1;34m\u001b[0m\n\u001b[0;32m     12\u001b[0m \u001b[38;5;28;01mfrom\u001b[39;00m \u001b[38;5;21;01mpandas\u001b[39;00m\u001b[38;5;21;01m.\u001b[39;00m\u001b[38;5;21;01mcore\u001b[39;00m\u001b[38;5;21;01m.\u001b[39;00m\u001b[38;5;21;01mdtypes\u001b[39;00m\u001b[38;5;21;01m.\u001b[39;00m\u001b[38;5;21;01mcommon\u001b[39;00m \u001b[38;5;28;01mimport\u001b[39;00m (\n\u001b[0;32m     13\u001b[0m     is_bool_dtype,\n\u001b[0;32m     14\u001b[0m     is_float,\n\u001b[1;32m   (...)\u001b[0m\n\u001b[0;32m     20\u001b[0m     is_scalar,\n\u001b[0;32m     21\u001b[0m )\n\u001b[0;32m     22\u001b[0m \u001b[38;5;28;01mfrom\u001b[39;00m \u001b[38;5;21;01mpandas\u001b[39;00m\u001b[38;5;21;01m.\u001b[39;00m\u001b[38;5;21;01mcore\u001b[39;00m\u001b[38;5;21;01m.\u001b[39;00m\u001b[38;5;21;01mdtypes\u001b[39;00m\u001b[38;5;21;01m.\u001b[39;00m\u001b[38;5;21;01mdtypes\u001b[39;00m \u001b[38;5;28;01mimport\u001b[39;00m register_extension_dtype\n\u001b[1;32m---> 23\u001b[0m \u001b[38;5;28;01mfrom\u001b[39;00m \u001b[38;5;21;01mpandas\u001b[39;00m\u001b[38;5;21;01m.\u001b[39;00m\u001b[38;5;21;01mcore\u001b[39;00m\u001b[38;5;21;01m.\u001b[39;00m\u001b[38;5;21;01mdtypes\u001b[39;00m\u001b[38;5;21;01m.\u001b[39;00m\u001b[38;5;21;01mgeneric\u001b[39;00m \u001b[38;5;28;01mimport\u001b[39;00m ABCIndexClass, ABCSeries\n\u001b[0;32m     24\u001b[0m \u001b[38;5;28;01mfrom\u001b[39;00m \u001b[38;5;21;01mpandas\u001b[39;00m\u001b[38;5;21;01m.\u001b[39;00m\u001b[38;5;21;01mcore\u001b[39;00m\u001b[38;5;21;01m.\u001b[39;00m\u001b[38;5;21;01mdtypes\u001b[39;00m\u001b[38;5;21;01m.\u001b[39;00m\u001b[38;5;21;01mmissing\u001b[39;00m \u001b[38;5;28;01mimport\u001b[39;00m isna, notna\n\u001b[0;32m     25\u001b[0m \u001b[38;5;28;01mfrom\u001b[39;00m \u001b[38;5;21;01mpandas\u001b[39;00m\u001b[38;5;21;01m.\u001b[39;00m\u001b[38;5;21;01mcore\u001b[39;00m\u001b[38;5;21;01m.\u001b[39;00m\u001b[38;5;21;01mtools\u001b[39;00m\u001b[38;5;21;01m.\u001b[39;00m\u001b[38;5;21;01mnumeric\u001b[39;00m \u001b[38;5;28;01mimport\u001b[39;00m to_numeric\n",
      "\u001b[1;31mImportError\u001b[0m: cannot import name 'ABCIndexClass' from 'pandas.core.dtypes.generic' (C:\\Users\\Alejandro Moncada\\anaconda3\\lib\\site-packages\\pandas\\core\\dtypes\\generic.py)"
     ]
    }
   ],
   "source": [
    "import pandas_profiling\n",
    "from pandas_profiling.utils.cache import cache_file"
   ]
  },
  {
   "cell_type": "code",
   "execution_count": null,
   "metadata": {},
   "outputs": [],
   "source": []
  }
 ],
 "metadata": {
  "colab": {
   "collapsed_sections": [],
   "name": "LuloTP.ipynb",
   "provenance": []
  },
  "kernelspec": {
   "display_name": "Python 3 (ipykernel)",
   "language": "python",
   "name": "python3"
  },
  "language_info": {
   "codemirror_mode": {
    "name": "ipython",
    "version": 3
   },
   "file_extension": ".py",
   "mimetype": "text/x-python",
   "name": "python",
   "nbconvert_exporter": "python",
   "pygments_lexer": "ipython3",
   "version": "3.9.12"
  }
 },
 "nbformat": 4,
 "nbformat_minor": 1
}
