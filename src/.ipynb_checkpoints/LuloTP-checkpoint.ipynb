{
 "cells": [
  {
   "cell_type": "code",
   "execution_count": 12,
   "metadata": {
    "id": "Jizly7B7yF41"
   },
   "outputs": [],
   "source": [
    "import pandas as pd\n",
    "import numpy as np\n",
    "import glob \n",
    "import altair as alt\n",
    "import sqlite3\n",
    "#!pip install pandas-profiling\n",
    "#from pandas_profiling import ProfileReport"
   ]
  },
  {
   "cell_type": "code",
   "execution_count": 36,
   "metadata": {
    "colab": {
     "base_uri": "https://localhost:8080/"
    },
    "id": "vLuoXFvbyMFZ",
    "outputId": "af99e768-8594-484d-a7ee-840c9fec64dc"
   },
   "outputs": [
    {
     "name": "stdout",
     "output_type": "stream",
     "text": [
      "http://api.tvmaze.com/schedule/web?date=2020-12-01 Export Complete\n",
      "http://api.tvmaze.com/schedule/web?date=2020-12-02 Export Complete\n",
      "http://api.tvmaze.com/schedule/web?date=2020-12-03 Export Complete\n",
      "http://api.tvmaze.com/schedule/web?date=2020-12-04 Export Complete\n",
      "http://api.tvmaze.com/schedule/web?date=2020-12-05 Export Complete\n",
      "http://api.tvmaze.com/schedule/web?date=2020-12-06 Export Complete\n",
      "http://api.tvmaze.com/schedule/web?date=2020-12-07 Export Complete\n",
      "http://api.tvmaze.com/schedule/web?date=2020-12-08 Export Complete\n",
      "http://api.tvmaze.com/schedule/web?date=2020-12-09 Export Complete\n",
      "http://api.tvmaze.com/schedule/web?date=2020-12-10 Export Complete\n",
      "http://api.tvmaze.com/schedule/web?date=2020-12-11 Export Complete\n",
      "http://api.tvmaze.com/schedule/web?date=2020-12-12 Export Complete\n",
      "http://api.tvmaze.com/schedule/web?date=2020-12-13 Export Complete\n",
      "http://api.tvmaze.com/schedule/web?date=2020-12-14 Export Complete\n",
      "http://api.tvmaze.com/schedule/web?date=2020-12-15 Export Complete\n",
      "http://api.tvmaze.com/schedule/web?date=2020-12-16 Export Complete\n",
      "http://api.tvmaze.com/schedule/web?date=2020-12-17 Export Complete\n",
      "http://api.tvmaze.com/schedule/web?date=2020-12-18 Export Complete\n",
      "http://api.tvmaze.com/schedule/web?date=2020-12-19 Export Complete\n",
      "http://api.tvmaze.com/schedule/web?date=2020-12-20 Export Complete\n",
      "http://api.tvmaze.com/schedule/web?date=2020-12-21 Export Complete\n",
      "http://api.tvmaze.com/schedule/web?date=2020-12-22 Export Complete\n",
      "http://api.tvmaze.com/schedule/web?date=2020-12-23 Export Complete\n",
      "http://api.tvmaze.com/schedule/web?date=2020-12-24 Export Complete\n",
      "http://api.tvmaze.com/schedule/web?date=2020-12-25 Export Complete\n",
      "http://api.tvmaze.com/schedule/web?date=2020-12-26 Export Complete\n",
      "http://api.tvmaze.com/schedule/web?date=2020-12-27 Export Complete\n",
      "http://api.tvmaze.com/schedule/web?date=2020-12-28 Export Complete\n",
      "http://api.tvmaze.com/schedule/web?date=2020-12-29 Export Complete\n",
      "http://api.tvmaze.com/schedule/web?date=2020-12-30 Export Complete\n",
      "http://api.tvmaze.com/schedule/web?date=2020-12-31 Export Complete\n"
     ]
    }
   ],
   "source": [
    "from pandas.core.reshape.merge import string\n",
    "#Se inicia con la obtención de los datos para el presente mes de 2022-12-*\n",
    "path_base =\"http://api.tvmaze.com/schedule/web?date=2020-12-\"\n",
    "archivo= pd.read_json(path_base +\"01\")\n",
    "\n",
    "RutaJSON=r\"C:\\Users\\Alejandro Moncada\\Documents\\LuloTP\\json\"\n",
    "\n",
    "#array=np.empty(31, str)\n",
    "#se usa el Zfill para agregar digito falante a los datos <10.\n",
    "for ix in range(31):\n",
    "  #pd.read_json\n",
    "  df=pd.read_json(path_base +str(ix+1).zfill(2))\n",
    "  df.to_json(RutaJSON+'\\TV_Maze'+str(ix+1).zfill(2)+\".json\")\n",
    "  print(path_base +str(ix+1).zfill(2) + ' Export Complete')"
   ]
  },
  {
   "cell_type": "code",
   "execution_count": 5,
   "metadata": {
    "id": "741PJWdwyljB"
   },
   "outputs": [],
   "source": [
    "rutas = glob.glob(RutaJSON+\"\\TV_Maze*\"+\".json\")\n",
    "partes_glob = [pd.read_json(ruta) for ruta in rutas]\n",
    "TV_Maze = pd.concat(partes_glob)"
   ]
  },
  {
   "cell_type": "markdown",
   "metadata": {},
   "source": [
    "# 1. Se importan los datos del mes de diciembre 2020\n",
    "Se realiza la importación de la data solicitada, en este caso dado que el API Rest no permitió para schedula una la función year ya que devolvia los valores por defecto (los shows emitidos en la fecha actual) se optó por realizar la importación de schedule día por día, es un proceso que se puede mejorar dado que toma aproximadamente 30 segundos recorrer el for y obtener la información, dentro del bucle son creados los archivos JSON obtenidos y lo que realicé fué unir todos estos archivos usando glob.glob para asegurarme que todos los archivos inicien en TV_Maze y finalicen con .json.\n",
    "\n",
    "Nota: La función zfill(2) la uso para indicar que los valores que solo contengan 1 digito completen el segundo digito con un cero (0) a la izquierda dado que es requisito para la fecha en el formato ISO-8601  AAAA-MM-DD."
   ]
  },
  {
   "cell_type": "code",
   "execution_count": 34,
   "metadata": {},
   "outputs": [],
   "source": [
    "bn= pd.DataFrame(TV_Maze._embedded.values.tolist())['show']\n",
    "TV_Maze_Show=pd.json_normalize(bn)"
   ]
  },
  {
   "cell_type": "markdown",
   "metadata": {
    "colab": {
     "base_uri": "https://localhost:8080/"
    },
    "id": "A8nyUgQxzkzo",
    "outputId": "845afb6a-4d09-4e8a-be2e-7495a128eff6"
   },
   "source": [
    "## 2. Generación de DataFrames \n",
    "En esta sección contamos con los dataframes a trabajar, (1) TV_Maze que corresponde a la información obtenida de Schedule que nos da un vistazo general de la información.  Y (2) TV_Maze_Show, que expande la columna _embedded que contiene toda la información del Show que considero mucho más útil dado que encontramos un mayor cantidad de variables categóricas que servirán mas adelante.\n",
    "\n",
    "En este caso nuestros segundo dataset contiene ya filtrados los datos que corresponden a TV_Shows emitidos en el mes de Dic-2020 por lo que no es necesario realizar una cruce de tablas para cumplir con esta condición.\n",
    "\n",
    "#TV_Maze.head(5)\n",
    "#TV_Maze.to_excel('TV_Maze.xlsx')\n",
    "#pd.drop(TV_Maze['id','airestamp','_links','_embedded','summary','image','url'])\n"
   ]
  },
  {
   "cell_type": "code",
   "execution_count": 35,
   "metadata": {
    "id": "wL2SYdwEzEhv"
   },
   "outputs": [
    {
     "data": {
      "text/html": [
       "<div>\n",
       "<style scoped>\n",
       "    .dataframe tbody tr th:only-of-type {\n",
       "        vertical-align: middle;\n",
       "    }\n",
       "\n",
       "    .dataframe tbody tr th {\n",
       "        vertical-align: top;\n",
       "    }\n",
       "\n",
       "    .dataframe thead th {\n",
       "        text-align: right;\n",
       "    }\n",
       "</style>\n",
       "<table border=\"1\" class=\"dataframe\">\n",
       "  <thead>\n",
       "    <tr style=\"text-align: right;\">\n",
       "      <th></th>\n",
       "      <th>id</th>\n",
       "      <th>runtime</th>\n",
       "      <th>averageRuntime</th>\n",
       "      <th>weight</th>\n",
       "      <th>network</th>\n",
       "      <th>dvdCountry</th>\n",
       "      <th>updated</th>\n",
       "      <th>rating.average</th>\n",
       "      <th>webChannel.id</th>\n",
       "      <th>externals.tvrage</th>\n",
       "      <th>externals.thetvdb</th>\n",
       "      <th>network.id</th>\n",
       "      <th>webChannel</th>\n",
       "      <th>image</th>\n",
       "      <th>webChannel.country</th>\n",
       "    </tr>\n",
       "  </thead>\n",
       "  <tbody>\n",
       "    <tr>\n",
       "      <th>count</th>\n",
       "      <td>3061.000000</td>\n",
       "      <td>2054.000000</td>\n",
       "      <td>2901.000000</td>\n",
       "      <td>3061.000000</td>\n",
       "      <td>0.0</td>\n",
       "      <td>0.0</td>\n",
       "      <td>3.061000e+03</td>\n",
       "      <td>427.000000</td>\n",
       "      <td>2980.000000</td>\n",
       "      <td>57.000000</td>\n",
       "      <td>2138.000000</td>\n",
       "      <td>213.000000</td>\n",
       "      <td>0.0</td>\n",
       "      <td>0.0</td>\n",
       "      <td>0.0</td>\n",
       "    </tr>\n",
       "    <tr>\n",
       "      <th>mean</th>\n",
       "      <td>46836.475662</td>\n",
       "      <td>38.633885</td>\n",
       "      <td>36.913478</td>\n",
       "      <td>36.321137</td>\n",
       "      <td>NaN</td>\n",
       "      <td>NaN</td>\n",
       "      <td>1.639012e+09</td>\n",
       "      <td>6.855972</td>\n",
       "      <td>145.863758</td>\n",
       "      <td>23860.263158</td>\n",
       "      <td>359124.135641</td>\n",
       "      <td>481.450704</td>\n",
       "      <td>NaN</td>\n",
       "      <td>NaN</td>\n",
       "      <td>NaN</td>\n",
       "    </tr>\n",
       "    <tr>\n",
       "      <th>std</th>\n",
       "      <td>12423.862293</td>\n",
       "      <td>30.780295</td>\n",
       "      <td>28.128825</td>\n",
       "      <td>26.233114</td>\n",
       "      <td>NaN</td>\n",
       "      <td>NaN</td>\n",
       "      <td>1.858850e+07</td>\n",
       "      <td>0.939599</td>\n",
       "      <td>140.224948</td>\n",
       "      <td>11571.501092</td>\n",
       "      <td>56073.365185</td>\n",
       "      <td>527.862523</td>\n",
       "      <td>NaN</td>\n",
       "      <td>NaN</td>\n",
       "      <td>NaN</td>\n",
       "    </tr>\n",
       "    <tr>\n",
       "      <th>min</th>\n",
       "      <td>802.000000</td>\n",
       "      <td>1.000000</td>\n",
       "      <td>1.000000</td>\n",
       "      <td>0.000000</td>\n",
       "      <td>NaN</td>\n",
       "      <td>NaN</td>\n",
       "      <td>1.602172e+09</td>\n",
       "      <td>3.600000</td>\n",
       "      <td>1.000000</td>\n",
       "      <td>5152.000000</td>\n",
       "      <td>73246.000000</td>\n",
       "      <td>8.000000</td>\n",
       "      <td>NaN</td>\n",
       "      <td>NaN</td>\n",
       "      <td>NaN</td>\n",
       "    </tr>\n",
       "    <tr>\n",
       "      <th>25%</th>\n",
       "      <td>44110.000000</td>\n",
       "      <td>20.000000</td>\n",
       "      <td>18.000000</td>\n",
       "      <td>17.000000</td>\n",
       "      <td>NaN</td>\n",
       "      <td>NaN</td>\n",
       "      <td>1.619375e+09</td>\n",
       "      <td>6.600000</td>\n",
       "      <td>21.000000</td>\n",
       "      <td>19056.000000</td>\n",
       "      <td>345280.000000</td>\n",
       "      <td>112.000000</td>\n",
       "      <td>NaN</td>\n",
       "      <td>NaN</td>\n",
       "      <td>NaN</td>\n",
       "    </tr>\n",
       "    <tr>\n",
       "      <th>50%</th>\n",
       "      <td>51928.000000</td>\n",
       "      <td>35.000000</td>\n",
       "      <td>30.000000</td>\n",
       "      <td>29.000000</td>\n",
       "      <td>NaN</td>\n",
       "      <td>NaN</td>\n",
       "      <td>1.645412e+09</td>\n",
       "      <td>7.000000</td>\n",
       "      <td>104.000000</td>\n",
       "      <td>19056.000000</td>\n",
       "      <td>382296.000000</td>\n",
       "      <td>308.000000</td>\n",
       "      <td>NaN</td>\n",
       "      <td>NaN</td>\n",
       "      <td>NaN</td>\n",
       "    </tr>\n",
       "    <tr>\n",
       "      <th>75%</th>\n",
       "      <td>52799.000000</td>\n",
       "      <td>45.000000</td>\n",
       "      <td>45.000000</td>\n",
       "      <td>48.000000</td>\n",
       "      <td>NaN</td>\n",
       "      <td>NaN</td>\n",
       "      <td>1.654593e+09</td>\n",
       "      <td>7.500000</td>\n",
       "      <td>238.000000</td>\n",
       "      <td>34149.000000</td>\n",
       "      <td>392410.000000</td>\n",
       "      <td>551.000000</td>\n",
       "      <td>NaN</td>\n",
       "      <td>NaN</td>\n",
       "      <td>NaN</td>\n",
       "    </tr>\n",
       "    <tr>\n",
       "      <th>max</th>\n",
       "      <td>63761.000000</td>\n",
       "      <td>300.000000</td>\n",
       "      <td>300.000000</td>\n",
       "      <td>100.000000</td>\n",
       "      <td>NaN</td>\n",
       "      <td>NaN</td>\n",
       "      <td>1.661704e+09</td>\n",
       "      <td>8.800000</td>\n",
       "      <td>533.000000</td>\n",
       "      <td>47170.000000</td>\n",
       "      <td>419045.000000</td>\n",
       "      <td>1862.000000</td>\n",
       "      <td>NaN</td>\n",
       "      <td>NaN</td>\n",
       "      <td>NaN</td>\n",
       "    </tr>\n",
       "  </tbody>\n",
       "</table>\n",
       "</div>"
      ],
      "text/plain": [
       "                 id      runtime  averageRuntime       weight  network  \\\n",
       "count   3061.000000  2054.000000     2901.000000  3061.000000      0.0   \n",
       "mean   46836.475662    38.633885       36.913478    36.321137      NaN   \n",
       "std    12423.862293    30.780295       28.128825    26.233114      NaN   \n",
       "min      802.000000     1.000000        1.000000     0.000000      NaN   \n",
       "25%    44110.000000    20.000000       18.000000    17.000000      NaN   \n",
       "50%    51928.000000    35.000000       30.000000    29.000000      NaN   \n",
       "75%    52799.000000    45.000000       45.000000    48.000000      NaN   \n",
       "max    63761.000000   300.000000      300.000000   100.000000      NaN   \n",
       "\n",
       "       dvdCountry       updated  rating.average  webChannel.id  \\\n",
       "count         0.0  3.061000e+03      427.000000    2980.000000   \n",
       "mean          NaN  1.639012e+09        6.855972     145.863758   \n",
       "std           NaN  1.858850e+07        0.939599     140.224948   \n",
       "min           NaN  1.602172e+09        3.600000       1.000000   \n",
       "25%           NaN  1.619375e+09        6.600000      21.000000   \n",
       "50%           NaN  1.645412e+09        7.000000     104.000000   \n",
       "75%           NaN  1.654593e+09        7.500000     238.000000   \n",
       "max           NaN  1.661704e+09        8.800000     533.000000   \n",
       "\n",
       "       externals.tvrage  externals.thetvdb   network.id  webChannel  image  \\\n",
       "count         57.000000        2138.000000   213.000000         0.0    0.0   \n",
       "mean       23860.263158      359124.135641   481.450704         NaN    NaN   \n",
       "std        11571.501092       56073.365185   527.862523         NaN    NaN   \n",
       "min         5152.000000       73246.000000     8.000000         NaN    NaN   \n",
       "25%        19056.000000      345280.000000   112.000000         NaN    NaN   \n",
       "50%        19056.000000      382296.000000   308.000000         NaN    NaN   \n",
       "75%        34149.000000      392410.000000   551.000000         NaN    NaN   \n",
       "max        47170.000000      419045.000000  1862.000000         NaN    NaN   \n",
       "\n",
       "       webChannel.country  \n",
       "count                 0.0  \n",
       "mean                  NaN  \n",
       "std                   NaN  \n",
       "min                   NaN  \n",
       "25%                   NaN  \n",
       "50%                   NaN  \n",
       "75%                   NaN  \n",
       "max                   NaN  "
      ]
     },
     "execution_count": 35,
     "metadata": {},
     "output_type": "execute_result"
    }
   ],
   "source": [
    "TV_Maze_Show.describe()"
   ]
  },
  {
   "cell_type": "code",
   "execution_count": null,
   "metadata": {
    "colab": {
     "base_uri": "https://localhost:8080/"
    },
    "id": "kBuqQXyYaoCE",
    "outputId": "70277907-466c-4f9a-9456-f0dc89be763b"
   },
   "outputs": [],
   "source": [
    "#Distribución de Fechas\n",
    "plot = TV_Maze_Show['type'].value_counts().plot(kind='pie',autopct='%.2f',\n",
    "                                           figsize=(4,6),\n",
    "                                           title='Distribución por Tipo de programa') \n",
    "plot\n",
    "\n",
    "\n",
    "TV_Maze['runtime'].median()\n",
    "\n",
    "TV_Regular=TV_Maze['type'].str.contains(['regular']) TV_Maze['runtime'].median()\n",
    "\n",
    "TV_Special=TV_Maze['type'].str.contains(['insignificant_special']) TV_Maze['runtime'].median()\n",
    "\n",
    "TV_Special_Insignificant=TV_Maze['type'].str.contains(['significant_special']) TV_Maze['runtime'].median()"
   ]
  },
  {
   "cell_type": "code",
   "execution_count": null,
   "metadata": {
    "id": "2QW2PdaMluyN"
   },
   "outputs": [],
   "source": [
    "AverageRuntime = pd.crosstab(index=TV_Maze['runtime'],\n",
    "            columns=TV_Maze['type'])\n",
    "AverageRuntime"
   ]
  },
  {
   "cell_type": "code",
   "execution_count": null,
   "metadata": {
    "id": "oXrEwjR3nSBj"
   },
   "outputs": [],
   "source": [
    "pd.value_counts(TV_Maze['image'])"
   ]
  },
  {
   "cell_type": "code",
   "execution_count": null,
   "metadata": {},
   "outputs": [],
   "source": [
    "#TV_Maze=(TV_Maze['type'].str.contains('regular'))\n",
    "Regular=TV_Maze.loc[TV_Maze['type'] == 'significant_special']\n",
    "ISpecial=TV_Maze.loc[TV_Maze['type'] == 'insignificant_special']\n",
    "Special=TV_Maze.loc[TV_Maze['type'] == 'regular']\n"
   ]
  },
  {
   "cell_type": "markdown",
   "metadata": {},
   "source": [
    "###### 6.A. Average Value from data Regular, Significant_Special and Significant_Special on type"
   ]
  },
  {
   "cell_type": "code",
   "execution_count": null,
   "metadata": {},
   "outputs": [],
   "source": [
    "Special['runtime'].mean()"
   ]
  },
  {
   "cell_type": "code",
   "execution_count": null,
   "metadata": {},
   "outputs": [],
   "source": [
    "ISpecial['runtime'].mean()"
   ]
  },
  {
   "cell_type": "code",
   "execution_count": null,
   "metadata": {},
   "outputs": [],
   "source": [
    "Special['runtime'].mean()"
   ]
  },
  {
   "cell_type": "code",
   "execution_count": null,
   "metadata": {},
   "outputs": [],
   "source": [
    "SCFull = pd.read_json(\"https://api.tvmaze.com/schedule/full\")"
   ]
  },
  {
   "cell_type": "code",
   "execution_count": 13,
   "metadata": {},
   "outputs": [
    {
     "data": {
      "text/plain": [
       "Index(['id', 'url', 'name', 'season', 'number', 'type', 'airdate', 'airtime',\n",
       "       'airstamp', 'runtime', 'rating', 'image', 'summary', '_links',\n",
       "       '_embedded'],\n",
       "      dtype='object')"
      ]
     },
     "execution_count": 13,
     "metadata": {},
     "output_type": "execute_result"
    }
   ],
   "source": [
    "TV_Maze.columns"
   ]
  },
  {
   "cell_type": "code",
   "execution_count": null,
   "metadata": {},
   "outputs": [],
   "source": []
  }
 ],
 "metadata": {
  "colab": {
   "collapsed_sections": [],
   "name": "LuloTP.ipynb",
   "provenance": []
  },
  "kernelspec": {
   "display_name": "Python 3 (ipykernel)",
   "language": "python",
   "name": "python3"
  },
  "language_info": {
   "codemirror_mode": {
    "name": "ipython",
    "version": 3
   },
   "file_extension": ".py",
   "mimetype": "text/x-python",
   "name": "python",
   "nbconvert_exporter": "python",
   "pygments_lexer": "ipython3",
   "version": "3.9.12"
  }
 },
 "nbformat": 4,
 "nbformat_minor": 1
}
