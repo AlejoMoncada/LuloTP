{
 "cells": [
  {
   "cell_type": "code",
   "execution_count": 1,
   "metadata": {
    "id": "Jizly7B7yF41"
   },
   "outputs": [
    {
     "name": "stdout",
     "output_type": "stream",
     "text": [
      "El directorio ya existe en la ruta\n"
     ]
    }
   ],
   "source": [
    "import pandas as pd\n",
    "import numpy as np\n",
    "import glob \n",
    "import altair as alt\n",
    "import sqlite3\n",
    "import os\n",
    "#Descomentar línea de abajo ↓ en la primera ejecucución. \n",
    "#!pip install https://github.com/ydataai/pandas-profiling/archive/master.zip\n",
    "from pandas_profiling import ProfileReport\n",
    "import sqlalchemy\n",
    "#Se adiciona en caso de que se cree el archivo en base al libro.\n",
    "\n",
    "#Para iniciar por favor cambie ↓ la siguiente línea por la ruta donde clonó el repositorio\n",
    "RutaJSON=r\"C:\\Users\\anliscen\\Documents\\LuloTP\\LuloTP\"\n",
    "#        ↑↑↑↑↑↑↑↑↑↑↑↑↑↑↑↑↑↑↑↑↑↑↑↑↑↑↑↑↑↑↑↑↑↑↑↑↑↑↑↑↑↑↑\n",
    "try:\n",
    "  os.mkdir(RutaJSON+'\\json')\n",
    "except:\n",
    "  print(\"El directorio ya existe en la ruta\")"
   ]
  },
  {
   "cell_type": "code",
   "execution_count": 2,
   "metadata": {
    "colab": {
     "base_uri": "https://localhost:8080/"
    },
    "id": "vLuoXFvbyMFZ",
    "outputId": "af99e768-8594-484d-a7ee-840c9fec64dc"
   },
   "outputs": [
    {
     "name": "stdout",
     "output_type": "stream",
     "text": [
      "http://api.tvmaze.com/schedule/web?date=2020-12-01 Export Complete\n",
      "http://api.tvmaze.com/schedule/web?date=2020-12-02 Export Complete\n",
      "http://api.tvmaze.com/schedule/web?date=2020-12-03 Export Complete\n",
      "http://api.tvmaze.com/schedule/web?date=2020-12-04 Export Complete\n",
      "http://api.tvmaze.com/schedule/web?date=2020-12-05 Export Complete\n",
      "http://api.tvmaze.com/schedule/web?date=2020-12-06 Export Complete\n",
      "http://api.tvmaze.com/schedule/web?date=2020-12-07 Export Complete\n",
      "http://api.tvmaze.com/schedule/web?date=2020-12-08 Export Complete\n",
      "http://api.tvmaze.com/schedule/web?date=2020-12-09 Export Complete\n",
      "http://api.tvmaze.com/schedule/web?date=2020-12-10 Export Complete\n",
      "http://api.tvmaze.com/schedule/web?date=2020-12-11 Export Complete\n",
      "http://api.tvmaze.com/schedule/web?date=2020-12-12 Export Complete\n",
      "http://api.tvmaze.com/schedule/web?date=2020-12-13 Export Complete\n",
      "http://api.tvmaze.com/schedule/web?date=2020-12-14 Export Complete\n",
      "http://api.tvmaze.com/schedule/web?date=2020-12-15 Export Complete\n",
      "http://api.tvmaze.com/schedule/web?date=2020-12-16 Export Complete\n",
      "http://api.tvmaze.com/schedule/web?date=2020-12-17 Export Complete\n",
      "http://api.tvmaze.com/schedule/web?date=2020-12-18 Export Complete\n",
      "http://api.tvmaze.com/schedule/web?date=2020-12-19 Export Complete\n",
      "http://api.tvmaze.com/schedule/web?date=2020-12-20 Export Complete\n",
      "http://api.tvmaze.com/schedule/web?date=2020-12-21 Export Complete\n",
      "http://api.tvmaze.com/schedule/web?date=2020-12-22 Export Complete\n",
      "http://api.tvmaze.com/schedule/web?date=2020-12-23 Export Complete\n",
      "http://api.tvmaze.com/schedule/web?date=2020-12-24 Export Complete\n",
      "http://api.tvmaze.com/schedule/web?date=2020-12-25 Export Complete\n",
      "http://api.tvmaze.com/schedule/web?date=2020-12-26 Export Complete\n",
      "http://api.tvmaze.com/schedule/web?date=2020-12-27 Export Complete\n",
      "http://api.tvmaze.com/schedule/web?date=2020-12-28 Export Complete\n",
      "http://api.tvmaze.com/schedule/web?date=2020-12-29 Export Complete\n",
      "http://api.tvmaze.com/schedule/web?date=2020-12-30 Export Complete\n",
      "http://api.tvmaze.com/schedule/web?date=2020-12-31 Export Complete\n"
     ]
    }
   ],
   "source": [
    "from pandas.core.reshape.merge import string\n",
    "#Se inicia con la obtención de los datos para el presente mes de 2022-12-*\n",
    "path_base =\"http://api.tvmaze.com/schedule/web?date=2020-12-\"\n",
    "archivo= pd.read_json(path_base +\"01\")\n",
    "\n",
    "#RutaJSON=r\"C:\\Users\\Alejandro Moncada\\Documents\\LuloTP\"\n",
    "#array=np.empty(31, str)\n",
    "#se usa el Zfill para agregar digito falante a los datos <10.\n",
    "for ix in range(31):\n",
    "  #pd.read_json\n",
    "  df=pd.read_json(path_base +str(ix+1).zfill(2))\n",
    "  df.to_json(RutaJSON+'\\json'+'\\TV_Maze'+str(ix+1).zfill(2)+\".json\")\n",
    "  print(path_base +str(ix+1).zfill(2) + ' Export Complete')"
   ]
  },
  {
   "cell_type": "code",
   "execution_count": 3,
   "metadata": {
    "id": "741PJWdwyljB"
   },
   "outputs": [
    {
     "name": "stdout",
     "output_type": "stream",
     "text": [
      "<class 'pandas.core.frame.DataFrame'>\n",
      "Int64Index: 3055 entries, 0 to 130\n",
      "Data columns (total 15 columns):\n",
      " #   Column     Non-Null Count  Dtype  \n",
      "---  ------     --------------  -----  \n",
      " 0   id         3055 non-null   int64  \n",
      " 1   url        3055 non-null   object \n",
      " 2   name       3055 non-null   object \n",
      " 3   season     3055 non-null   int64  \n",
      " 4   number     2974 non-null   float64\n",
      " 5   type       3055 non-null   object \n",
      " 6   airdate    3055 non-null   object \n",
      " 7   airtime    3055 non-null   object \n",
      " 8   airstamp   3055 non-null   object \n",
      " 9   runtime    2836 non-null   float64\n",
      " 10  rating     3055 non-null   object \n",
      " 11  image      1017 non-null   object \n",
      " 12  summary    886 non-null    object \n",
      " 13  _links     3055 non-null   object \n",
      " 14  _embedded  3055 non-null   object \n",
      "dtypes: float64(2), int64(2), object(11)\n",
      "memory usage: 381.9+ KB\n"
     ]
    }
   ],
   "source": [
    "rutas = glob.glob(RutaJSON+\"\\json\"+\"\\TV_Maze*\"+\".json\")\n",
    "partes_glob = [pd.read_json(ruta) for ruta in rutas]\n",
    "TV_Maze = pd.concat(partes_glob)\n",
    "TV_Maze.info()"
   ]
  },
  {
   "cell_type": "markdown",
   "metadata": {},
   "source": [
    "# 1. Se importan los datos del mes de diciembre 2020\n",
    "Se realiza la importación de la data solicitada, en este caso dado que el API Rest schedule no se encontró una función equivalente a year ya que devolvia los valores por defecto al realizar el uso de funciones con operadores booleanos (los shows emitidos en la fecha actual) se optó por realizar la importación de schedule día por día, es un proceso que se puede mejorar dado que toma aproximadamente 30 segundos recorrer el ciclo *for* y obtener la información, dentro del bucle son creados los archivos JSON obtenidos y lo que realicé fué unir todos estos archivos usando glob.glob para asegurarme que todos los archivos inicien en TV_Maze y finalicen con .json.\n",
    "\n",
    "Nota: La función *zfill(2)* la uso para indicar que los valores que solo contengan 1 digito completen el segundo digito con un cero (0) a la izquierda dado que es requisito para la fecha en el formato **ISO-8601**  AAAA-MM-DD."
   ]
  },
  {
   "cell_type": "code",
   "execution_count": 4,
   "metadata": {},
   "outputs": [],
   "source": [
    "bn= pd.DataFrame(TV_Maze._embedded.values.tolist())['show']\n",
    "TV_Maze_Show=pd.json_normalize(bn)"
   ]
  },
  {
   "cell_type": "markdown",
   "metadata": {
    "colab": {
     "base_uri": "https://localhost:8080/"
    },
    "id": "A8nyUgQxzkzo",
    "outputId": "845afb6a-4d09-4e8a-be2e-7495a128eff6"
   },
   "source": [
    "## 2. Generación de DataFrames \n",
    "En esta sección contamos con los dataframes a trabajar, (1) TV_Maze que corresponde a la información obtenida de Schedule que nos da un vistazo general de la información.  Y (2) TV_Maze_Show, que expande la columna _embedded que contiene toda la información del Show que considero mucho más útil dado que encontramos un mayor cantidad de variables categóricas que servirán mas adelante.\n",
    "\n",
    "En este caso nuestros segundo dataset contiene ya filtrados los datos que corresponden a TV_Shows emitidos en el mes de Dic-2020 por lo que no es necesario realizar una cruce de tablas para cumplir con esta condición.\n",
    "\n",
    "\n"
   ]
  },
  {
   "cell_type": "markdown",
   "metadata": {},
   "source": [
    "## 3. Profiling de los DF\n",
    "En este proceso se hará uso como se solicitó de archivos profiling en HTML dado que permiten una mayor versatilidad a la hora de realizar la visualizaciones. "
   ]
  },
  {
   "cell_type": "code",
   "execution_count": 5,
   "metadata": {
    "id": "wL2SYdwEzEhv"
   },
   "outputs": [
    {
     "name": "stdout",
     "output_type": "stream",
     "text": [
      "El directorio ya existe en la ruta\n"
     ]
    },
    {
     "data": {
      "application/vnd.jupyter.widget-view+json": {
       "model_id": "261eeb388f79428d86c71b0410a1a97e",
       "version_major": 2,
       "version_minor": 0
      },
      "text/plain": [
       "Summarize dataset:   0%|          | 0/5 [00:00<?, ?it/s]"
      ]
     },
     "metadata": {},
     "output_type": "display_data"
    },
    {
     "data": {
      "application/vnd.jupyter.widget-view+json": {
       "model_id": "40beb371019f4c04ad1de34690ba0201",
       "version_major": 2,
       "version_minor": 0
      },
      "text/plain": [
       "Generate report structure:   0%|          | 0/1 [00:00<?, ?it/s]"
      ]
     },
     "metadata": {},
     "output_type": "display_data"
    },
    {
     "data": {
      "application/vnd.jupyter.widget-view+json": {
       "model_id": "1723b63dae3d4012a8ab1a515de6058d",
       "version_major": 2,
       "version_minor": 0
      },
      "text/plain": [
       "Render HTML:   0%|          | 0/1 [00:00<?, ?it/s]"
      ]
     },
     "metadata": {},
     "output_type": "display_data"
    },
    {
     "data": {
      "application/vnd.jupyter.widget-view+json": {
       "model_id": "3873f7456c3e445ea906698c55c4939e",
       "version_major": 2,
       "version_minor": 0
      },
      "text/plain": [
       "Export report to file:   0%|          | 0/1 [00:00<?, ?it/s]"
      ]
     },
     "metadata": {},
     "output_type": "display_data"
    }
   ],
   "source": [
    "#TV_Maze_Show.describe()\n",
    "try:\n",
    "  os.mkdir(RutaJSON+'\\profiling')\n",
    "except:\n",
    "  print(\"El directorio ya existe en la ruta\")\n",
    "\n",
    "profile = ProfileReport(TV_Maze, title='Modelo TV Maze Schedule', html={'style':{'full_witdth':True}})\n",
    "profile.to_file(RutaJSON+'\\profiling'+'\\Reporte TV Maze Schedule'+\".html\")"
   ]
  },
  {
   "cell_type": "markdown",
   "metadata": {},
   "source": [
    "##### En base al reporte de TV Maze Schedule\n",
    "Se encuentra que las columnas rating,_links y _embedded. En este punto no son tan útiles las dos primeras porque no aportan información valiosa ya que tienen un JSON embebido pero la mayor parte de los valores en el caso de rating son valores None, adicionalmente esta columna no presenta el ID de los datos.\n",
    "\n",
    "##### Image\n",
    "Contiene imágenes de los dato, sin embargo no son relevantes para el análisis en este punto. Puede servir para otro tipo de análisis. Sin embargo dado que 66.6% de los datos es una variable que puede ser suceptible a ser eliminada.\n",
    "\n",
    "#### _embedded \n",
    "Ya en este punto se extrajo la información, es el dataset más valiosos tanto por la cantidad de información como porque permite vincular los DF TV_Maze y TV_Maze shows por medio de realizar un JOIN por medio del ID. EN ESTE PUNTO SE PUEDE ELIMINAR \n",
    "\n",
    "#### _ratings\n",
    "Aporta información pero la mayor parte de los datos tiene este campo vacio, puede ser un indicador de popularidad de la serie.\n",
    "\n"
   ]
  },
  {
   "cell_type": "code",
   "execution_count": 6,
   "metadata": {},
   "outputs": [
    {
     "name": "stdout",
     "output_type": "stream",
     "text": [
      "El directorio ya existe en la ruta\n"
     ]
    },
    {
     "data": {
      "application/vnd.jupyter.widget-view+json": {
       "model_id": "579ba45f4c8046518d245d988bc03d8c",
       "version_major": 2,
       "version_minor": 0
      },
      "text/plain": [
       "Summarize dataset:   0%|          | 0/5 [00:00<?, ?it/s]"
      ]
     },
     "metadata": {},
     "output_type": "display_data"
    },
    {
     "name": "stderr",
     "output_type": "stream",
     "text": [
      "C:\\Users\\anliscen\\AppData\\Roaming\\Python\\Python39\\site-packages\\pandas_profiling\\model\\correlations.py:55: UserWarning: There was an attempt to calculate the cramers correlation, but this failed.\n",
      "To hide this warning, disable the calculation\n",
      "(using `df.profile_report(correlations={\"cramers\": {\"calculate\": False}})`\n",
      "If this is problematic for your use case, please report this as an issue:\n",
      "https://github.com/pandas-profiling/pandas-profiling/issues\n",
      "(include the error message: 'No data; `observed` has size 0.')\n",
      "  warnings.warn(\n"
     ]
    },
    {
     "data": {
      "application/vnd.jupyter.widget-view+json": {
       "model_id": "e43ac1f8d8734b568f8634d2a0f8b2c5",
       "version_major": 2,
       "version_minor": 0
      },
      "text/plain": [
       "Generate report structure:   0%|          | 0/1 [00:00<?, ?it/s]"
      ]
     },
     "metadata": {},
     "output_type": "display_data"
    },
    {
     "data": {
      "application/vnd.jupyter.widget-view+json": {
       "model_id": "71e15e8173ba4d8193abb3f5270e516b",
       "version_major": 2,
       "version_minor": 0
      },
      "text/plain": [
       "Render HTML:   0%|          | 0/1 [00:00<?, ?it/s]"
      ]
     },
     "metadata": {},
     "output_type": "display_data"
    },
    {
     "data": {
      "application/vnd.jupyter.widget-view+json": {
       "model_id": "b534f41a577045b0b3cd433349faf84b",
       "version_major": 2,
       "version_minor": 0
      },
      "text/plain": [
       "Export report to file:   0%|          | 0/1 [00:00<?, ?it/s]"
      ]
     },
     "metadata": {},
     "output_type": "display_data"
    }
   ],
   "source": [
    "#TV_Maze_Show.describe()\n",
    "try:\n",
    "  os.mkdir(RutaJSON+'\\profiling')\n",
    "except:\n",
    "  print(\"El directorio ya existe en la ruta\")\n",
    "\n",
    "profile2 = ProfileReport(TV_Maze_Show, title='Modelo TV Maze Shows', html={'style':{'full_witdth':True}})\n",
    "profile2.to_file(RutaJSON+'\\profiling'+'\\Reporte TV Maze Shows'+\".html\")"
   ]
  },
  {
   "cell_type": "markdown",
   "metadata": {},
   "source": [
    "#### En base al reporte de datos de TV_Maze Shows\n",
    "Se encuentra un DF con una nutrida cantidad de datos. A partir del cual se encuentra que este dataset será especialmente útil para el punto 6 de este informe. Ya que contiene Runtime, type, gender, name, rating. El dato de *country* no se encuentra en ninguno de los dataframes actuales, sin embargo si existe webChannel.country.name. "
   ]
  },
  {
   "cell_type": "markdown",
   "metadata": {
    "colab": {
     "base_uri": "https://localhost:8080/"
    },
    "id": "kBuqQXyYaoCE",
    "outputId": "70277907-466c-4f9a-9456-f0dc89be763b"
   },
   "source": [
    "# 5. Creación generar una BBDD con SQLite para los dataframes."
   ]
  },
  {
   "cell_type": "code",
   "execution_count": 15,
   "metadata": {
    "id": "2QW2PdaMluyN"
   },
   "outputs": [
    {
     "name": "stdout",
     "output_type": "stream",
     "text": [
      "El directorio ya existe en la ruta\n"
     ]
    }
   ],
   "source": [
    "try:\n",
    "  os.mkdir(RutaJSON+'\\db')\n",
    "except:\n",
    "  print(\"El directorio ya existe en la ruta\")\n",
    "\n",
    "#conn = sqlite3.connect(')\n",
    "engine = sqlalchemy.create_engine('sqlite:///'+RutaJSON+'\\db'+'\\TV_Maze.db')\n",
    "sqlite_connection = engine.connect()\n",
    "#TV_Maze_Show.to_sql(\"shows\",engine,if_exists=\"replace\")\n",
    "sqlite_connection.close()"
   ]
  },
  {
   "cell_type": "code",
   "execution_count": null,
   "metadata": {
    "id": "oXrEwjR3nSBj"
   },
   "outputs": [],
   "source": []
  },
  {
   "cell_type": "code",
   "execution_count": 8,
   "metadata": {},
   "outputs": [
    {
     "name": "stdout",
     "output_type": "stream",
     "text": [
      "<class 'pandas.core.frame.DataFrame'>\n",
      "RangeIndex: 3055 entries, 0 to 3054\n",
      "Data columns (total 46 columns):\n",
      " #   Column                       Non-Null Count  Dtype  \n",
      "---  ------                       --------------  -----  \n",
      " 0   id                           3055 non-null   int64  \n",
      " 1   url                          3055 non-null   object \n",
      " 2   name                         3055 non-null   object \n",
      " 3   type                         3055 non-null   object \n",
      " 4   language                     3021 non-null   object \n",
      " 5   genres                       3055 non-null   object \n",
      " 6   status                       3055 non-null   object \n",
      " 7   runtime                      2048 non-null   float64\n",
      " 8   averageRuntime               2895 non-null   float64\n",
      " 9   premiered                    3055 non-null   object \n",
      " 10  ended                        1369 non-null   object \n",
      " 11  officialSite                 2657 non-null   object \n",
      " 12  weight                       3055 non-null   int64  \n",
      " 13  network                      0 non-null      float64\n",
      " 14  dvdCountry                   0 non-null      float64\n",
      " 15  summary                      2743 non-null   object \n",
      " 16  updated                      3055 non-null   int64  \n",
      " 17  schedule.time                3055 non-null   object \n",
      " 18  schedule.days                3055 non-null   object \n",
      " 19  rating.average               421 non-null    float64\n",
      " 20  webChannel.id                2974 non-null   float64\n",
      " 21  webChannel.name              2974 non-null   object \n",
      " 22  webChannel.country.name      1469 non-null   object \n",
      " 23  webChannel.country.code      1469 non-null   object \n",
      " 24  webChannel.country.timezone  1469 non-null   object \n",
      " 25  webChannel.officialSite      1809 non-null   object \n",
      " 26  externals.tvrage             57 non-null     float64\n",
      " 27  externals.thetvdb            2132 non-null   float64\n",
      " 28  externals.imdb               1595 non-null   object \n",
      " 29  image.medium                 2900 non-null   object \n",
      " 30  image.original               2900 non-null   object \n",
      " 31  _links.self.href             3055 non-null   object \n",
      " 32  _links.previousepisode.href  3055 non-null   object \n",
      " 33  network.id                   213 non-null    float64\n",
      " 34  network.name                 213 non-null    object \n",
      " 35  network.country.name         213 non-null    object \n",
      " 36  network.country.code         213 non-null    object \n",
      " 37  network.country.timezone     213 non-null    object \n",
      " 38  network.officialSite         7 non-null      object \n",
      " 39  _links.nextepisode.href      166 non-null    object \n",
      " 40  webChannel                   0 non-null      float64\n",
      " 41  image                        0 non-null      float64\n",
      " 42  webChannel.country           0 non-null      float64\n",
      " 43  dvdCountry.name              27 non-null     object \n",
      " 44  dvdCountry.code              27 non-null     object \n",
      " 45  dvdCountry.timezone          27 non-null     object \n",
      "dtypes: float64(12), int64(3), object(31)\n",
      "memory usage: 1.1+ MB\n",
      "<class 'pandas.core.frame.DataFrame'>\n",
      "Int64Index: 3055 entries, 0 to 130\n",
      "Data columns (total 15 columns):\n",
      " #   Column     Non-Null Count  Dtype  \n",
      "---  ------     --------------  -----  \n",
      " 0   id         3055 non-null   int64  \n",
      " 1   url        3055 non-null   object \n",
      " 2   name       3055 non-null   object \n",
      " 3   season     3055 non-null   int64  \n",
      " 4   number     2974 non-null   float64\n",
      " 5   type       3055 non-null   object \n",
      " 6   airdate    3055 non-null   object \n",
      " 7   airtime    3055 non-null   object \n",
      " 8   airstamp   3055 non-null   object \n",
      " 9   runtime    2836 non-null   float64\n",
      " 10  rating     3055 non-null   object \n",
      " 11  image      1017 non-null   object \n",
      " 12  summary    886 non-null    object \n",
      " 13  _links     3055 non-null   object \n",
      " 14  _embedded  3055 non-null   object \n",
      "dtypes: float64(2), int64(2), object(11)\n",
      "memory usage: 381.9+ KB\n"
     ]
    }
   ],
   "source": [
    "TV_Maze_Show.info()\n",
    "\n",
    "TV_Maze.info()"
   ]
  },
  {
   "cell_type": "markdown",
   "metadata": {},
   "source": [
    "# 6. Información Solicitada"
   ]
  },
  {
   "cell_type": "code",
   "execution_count": 9,
   "metadata": {},
   "outputs": [
    {
     "name": "stdout",
     "output_type": "stream",
     "text": [
      "A continuación se presentan las cantidades por tipo para el promedio en base al runtime\n",
      "type\n",
      "Animation       13.919014\n",
      "Award Show     258.000000\n",
      "Documentary     31.913333\n",
      "Game Show       69.589744\n",
      "News           112.173913\n",
      "Panel Show      45.000000\n",
      "Reality         37.711864\n",
      "Scripted        36.389725\n",
      "Sports         107.054795\n",
      "Talk Show       42.013514\n",
      "Variety         27.870370\n",
      "Name: runtime, dtype: float64\n",
      "\n",
      "A continuación se presentan las cantidades por tipo para el promedio en base al AverageRuntime\n",
      "type\n",
      "Animation       14.603989\n",
      "Award Show     261.600000\n",
      "Documentary     29.733542\n",
      "Game Show       66.837209\n",
      "News           108.153846\n",
      "Panel Show      45.000000\n",
      "Reality         40.585062\n",
      "Scripted        35.837874\n",
      "Sports          96.162162\n",
      "Talk Show       40.561983\n",
      "Variety         26.918033\n",
      "Name: averageRuntime, dtype: float64\n"
     ]
    }
   ],
   "source": [
    "PA=TV_Maze_Show.groupby(TV_Maze_Show['type']).mean()\n",
    "print('A continuación se presentan las cantidades por tipo para el promedio en base al runtime')\n",
    "print(PA['runtime'])\n",
    "\n",
    "print('\\n'+'A continuación se presentan las cantidades por tipo para el promedio en base al AverageRuntime')\n",
    "print(PA['averageRuntime'])\n",
    "\n",
    "#pd.crosstab(index=TV_Maze_Show['type'],\n",
    "#           columns=TV_Maze_Show['runtime'],margins=True)"
   ]
  },
  {
   "cell_type": "markdown",
   "metadata": {},
   "source": [
    "### Cuenta por genero."
   ]
  },
  {
   "cell_type": "code",
   "execution_count": 34,
   "metadata": {},
   "outputs": [
    {
     "name": "stdout",
     "output_type": "stream",
     "text": [
      "Se genera el listado de valores por generos \n",
      "\n",
      "Drama              1100\n",
      "Comedy              751\n",
      "Romance             579\n",
      "Crime               283\n",
      "Mystery             235\n",
      "Fantasy             219\n",
      "Thriller            215\n",
      "Action              209\n",
      "Adventure           187\n",
      "Children            181\n",
      "History             144\n",
      "Anime               130\n",
      "Music               113\n",
      "Family              107\n",
      "Science-Fiction      93\n",
      "Horror               71\n",
      "Supernatural         69\n",
      "Sports               64\n",
      "Food                 52\n",
      "War                  30\n",
      "Travel               30\n",
      "Nature               22\n",
      "Adult                11\n",
      "Medical              10\n",
      "Legal                 5\n",
      "DIY                   4\n",
      "Name: Generos, dtype: int64\n"
     ]
    },
    {
     "data": {
      "image/png": "[encoded data removed]",
      "text/plain": [
       "<Figure size 576x288 with 1 Axes>"
      ]
     },
     "metadata": {
      "needs_background": "light"
     },
     "output_type": "display_data"
    }
   ],
   "source": [
    "#Se requiere eliminar los corchetes cuadrados y generar datos.\n",
    "#Es un vector de datos, no un String\n",
    "#TV_Maze_Show[\"genres\"].tolist()\n",
    "\n",
    "#Se declara un nuevo arreglo\n",
    "array2 =[]\n",
    "#recorremos el arreglo \n",
    "for e in range(len(TV_Maze_Show[\"genres\"])):  \n",
    "     #verificamos el tipo de dato\n",
    "     if type(TV_Maze_Show[\"genres\"][e]) is list:          \n",
    "         for i in TV_Maze_Show[\"genres\"][e]:\n",
    "                array2.append(i)\n",
    "     else:\n",
    "          array2.append(TV_Maze_Show[\"genres\"][e])\n",
    "\n",
    "array=np.transpose(array2)\n",
    "#Se transpone el vector para convertirlo en array cada uno de los elementos tendrá una categoría incluyendo los datos vácios que serán [Sin Categoría]\n",
    "\n",
    "df =pd.DataFrame(array, columns=[\"Generos\"])\n",
    "print(\"Se genera el listado de valores por generos \\n\")\n",
    "print(df[\"Generos\"].value_counts())\n",
    "\n",
    "#data = pd.DataFrame(array2, columns='Generos' )\n",
    "    # Cantidad de series emitidas por genero.\n",
    "\n",
    "plot = df['Generos'].value_counts().plot( \n",
    "kind='bar', title='Generos de las series emitidas',figsize=(8,4))"
   ]
  },
  {
   "cell_type": "markdown",
   "metadata": {},
   "source": [
    "### %Series emitidas por Pais"
   ]
  },
  {
   "cell_type": "markdown",
   "metadata": {},
   "source": [
    "#### D. Rating promedio de series por país y género por mes"
   ]
  },
  {
   "cell_type": "code",
   "execution_count": 46,
   "metadata": {
    "scrolled": true
   },
   "outputs": [
    {
     "ename": "SyntaxError",
     "evalue": "invalid syntax (1741974524.py, line 5)",
     "output_type": "error",
     "traceback": [
      "\u001b[1;36m  Input \u001b[1;32mIn [46]\u001b[1;36m\u001b[0m\n\u001b[1;33m    plot= TV_Maze_Show['webChannel.country.name'].value_counts().plot(kind='pie',\u001b[0m\n\u001b[1;37m    ^\u001b[0m\n\u001b[1;31mSyntaxError\u001b[0m\u001b[1;31m:\u001b[0m invalid syntax\n"
     ]
    }
   ],
   "source": [
    " #Porcenteje del pais respecto a las series emitidas\n",
    "print('A continuación se presenta el % serie emitidas por Pais en el mes de de diciembre de 2020' +'\\n' + 'en base al campo webChannel'+'\\n' )\n",
    "print((TV_Maze_Show['webChannel.country.name'].value_counts() / len(TV_Maze_Show['webChannel.country.name']))*100)\n",
    "\n",
    "plot= TV_Maze_Show['webChannel.country.name'].value_counts().plot(kind='pie',\n",
    "                                                                  autopct='%.2f',\n",
    "                                                                figsize=(9,9),\n",
    "                                                                  ylabel='',\n",
    "                                                                title='Datos Porcentuales por País, en base a webChannel')\n",
    "plot"
   ]
  },
  {
   "cell_type": "code",
   "execution_count": 42,
   "metadata": {},
   "outputs": [
    {
     "name": "stdout",
     "output_type": "stream",
     "text": [
      "A continuación se presenta el % serie emitidas por Pais en el mes de de diciembre de 2020\n",
      "en base al campo network\n"
     ]
    },
    {
     "data": {
      "text/plain": [
       "<AxesSubplot:title={'center':'Datos porcentuales por País en base a Network'}>"
      ]
     },
     "execution_count": 42,
     "metadata": {},
     "output_type": "execute_result"
    },
    {
     "data": {
      "image/png": "[encoded data removed]",
      "text/plain": [
       "<Figure size 576x576 with 1 Axes>"
      ]
     },
     "metadata": {},
     "output_type": "display_data"
    }
   ],
   "source": [
    "#Porcenteje del pais respecto a las series emitidas\n",
    "print('A continuación se presenta el % serie emitidas por Pais en el mes de de diciembre de 2020' +'\\n' + 'en base al campo network')\n",
    "#print(TV_Maze_Show['webChannel.country.name'].value_counts() / len(TV_Maze_Show['webChannel.country.name'])*100)\n",
    "\n",
    "plot= TV_Maze_Show['network.country.name'].value_counts().plot(kind='pie',\n",
    "                                                                  autopct='%.2f',\n",
    "                                                                figsize=(8,8),\n",
    "                                                                 ylabel='',\n",
    "                                                                title='Datos porcentuales por País en base a Network')\n",
    "plot"
   ]
  },
  {
   "cell_type": "markdown",
   "metadata": {},
   "source": [
    "### d) Rating, serie por país y género del mes"
   ]
  },
  {
   "cell_type": "code",
   "execution_count": null,
   "metadata": {},
   "outputs": [],
   "source": []
  }
 ],
 "metadata": {
  "colab": {
   "collapsed_sections": [],
   "name": "LuloTP.ipynb",
   "provenance": []
  },
  "kernelspec": {
   "display_name": "Python 3 (ipykernel)",
   "language": "python",
   "name": "python3"
  },
  "language_info": {
   "codemirror_mode": {
    "name": "ipython",
    "version": 3
   },
   "file_extension": ".py",
   "mimetype": "text/x-python",
   "name": "python",
   "nbconvert_exporter": "python",
   "pygments_lexer": "ipython3",
   "version": "3.9.12"
  }
 },
 "nbformat": 4,
 "nbformat_minor": 1
}
