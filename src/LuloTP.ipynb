{
 "cells": [
  {
   "cell_type": "code",
   "execution_count": 1,
   "metadata": {
    "id": "Jizly7B7yF41"
   },
   "outputs": [],
   "source": [
    "import pandas as pd\n",
    "import numpy as np\n",
    "import glob \n",
    "import altair as alt\n",
    "import sqlite3\n",
    "#!pip install pandas-profiling\n",
    "#!pip install https://github.com/ydataai/pandas-profiling/archive/master.zip\n",
    "from pandas_profiling import ProfileReport"
   ]
  },
  {
   "cell_type": "code",
   "execution_count": 2,
   "metadata": {
    "colab": {
     "base_uri": "https://localhost:8080/"
    },
    "id": "vLuoXFvbyMFZ",
    "outputId": "af99e768-8594-484d-a7ee-840c9fec64dc"
   },
   "outputs": [
    {
     "name": "stdout",
     "output_type": "stream",
     "text": [
      "http://api.tvmaze.com/schedule/web?date=2020-12-01 Export Complete\n",
      "http://api.tvmaze.com/schedule/web?date=2020-12-02 Export Complete\n",
      "http://api.tvmaze.com/schedule/web?date=2020-12-03 Export Complete\n",
      "http://api.tvmaze.com/schedule/web?date=2020-12-04 Export Complete\n",
      "http://api.tvmaze.com/schedule/web?date=2020-12-05 Export Complete\n",
      "http://api.tvmaze.com/schedule/web?date=2020-12-06 Export Complete\n",
      "http://api.tvmaze.com/schedule/web?date=2020-12-07 Export Complete\n",
      "http://api.tvmaze.com/schedule/web?date=2020-12-08 Export Complete\n",
      "http://api.tvmaze.com/schedule/web?date=2020-12-09 Export Complete\n",
      "http://api.tvmaze.com/schedule/web?date=2020-12-10 Export Complete\n",
      "http://api.tvmaze.com/schedule/web?date=2020-12-11 Export Complete\n",
      "http://api.tvmaze.com/schedule/web?date=2020-12-12 Export Complete\n",
      "http://api.tvmaze.com/schedule/web?date=2020-12-13 Export Complete\n",
      "http://api.tvmaze.com/schedule/web?date=2020-12-14 Export Complete\n",
      "http://api.tvmaze.com/schedule/web?date=2020-12-15 Export Complete\n",
      "http://api.tvmaze.com/schedule/web?date=2020-12-16 Export Complete\n",
      "http://api.tvmaze.com/schedule/web?date=2020-12-17 Export Complete\n",
      "http://api.tvmaze.com/schedule/web?date=2020-12-18 Export Complete\n",
      "http://api.tvmaze.com/schedule/web?date=2020-12-19 Export Complete\n",
      "http://api.tvmaze.com/schedule/web?date=2020-12-20 Export Complete\n",
      "http://api.tvmaze.com/schedule/web?date=2020-12-21 Export Complete\n",
      "http://api.tvmaze.com/schedule/web?date=2020-12-22 Export Complete\n",
      "http://api.tvmaze.com/schedule/web?date=2020-12-23 Export Complete\n",
      "http://api.tvmaze.com/schedule/web?date=2020-12-24 Export Complete\n",
      "http://api.tvmaze.com/schedule/web?date=2020-12-25 Export Complete\n",
      "http://api.tvmaze.com/schedule/web?date=2020-12-26 Export Complete\n",
      "http://api.tvmaze.com/schedule/web?date=2020-12-27 Export Complete\n",
      "http://api.tvmaze.com/schedule/web?date=2020-12-28 Export Complete\n",
      "http://api.tvmaze.com/schedule/web?date=2020-12-29 Export Complete\n",
      "http://api.tvmaze.com/schedule/web?date=2020-12-30 Export Complete\n",
      "http://api.tvmaze.com/schedule/web?date=2020-12-31 Export Complete\n"
     ]
    }
   ],
   "source": [
    "from pandas.core.reshape.merge import string\n",
    "#Se inicia con la obtención de los datos para el presente mes de 2022-12-*\n",
    "path_base =\"http://api.tvmaze.com/schedule/web?date=2020-12-\"\n",
    "archivo= pd.read_json(path_base +\"01\")\n",
    "\n",
    "\n",
    "#Para ejecutar en otro equipo cambiar la ruta de la siguiente abajo Ruta_JSO.\n",
    "#RutaJSON=r\"C:\\Users\\Alejandro Moncada\\Documents\\LuloTP\"\n",
    "RutaJSON=r\"C:\\Users\\anliscen\\Documents\\LuloTP\\LuloTP\"\n",
    "\n",
    "#array=np.empty(31, str)\n",
    "#se usa el Zfill para agregar digito falante a los datos <10.\n",
    "for ix in range(31):\n",
    "  #pd.read_json\n",
    "  df=pd.read_json(path_base +str(ix+1).zfill(2))\n",
    "  df.to_json(RutaJSON+'\\json'+'\\TV_Maze'+str(ix+1).zfill(2)+\".json\")\n",
    "  print(path_base +str(ix+1).zfill(2) + ' Export Complete')"
   ]
  },
  {
   "cell_type": "code",
   "execution_count": 4,
   "metadata": {
    "id": "741PJWdwyljB"
   },
   "outputs": [],
   "source": [
    "rutas = glob.glob(RutaJSON+\"\\json\"+\"\\TV_Maze*\"+\".json\")\n",
    "partes_glob = [pd.read_json(ruta) for ruta in rutas]\n",
    "TV_Maze = pd.concat(partes_glob)"
   ]
  },
  {
   "cell_type": "markdown",
   "metadata": {},
   "source": [
    "# 1. Se importan los datos del mes de diciembre 2020\n",
    "Se realiza la importación de la data solicitada, en este caso dado que el API Rest no permitió para schedula una la función year ya que devolvia los valores por defecto (los shows emitidos en la fecha actual) se optó por realizar la importación de schedule día por día, es un proceso que se puede mejorar dado que toma aproximadamente 30 segundos recorrer el for y obtener la información, dentro del bucle son creados los archivos JSON obtenidos y lo que realicé fué unir todos estos archivos usando glob.glob para asegurarme que todos los archivos inicien en TV_Maze y finalicen con .json.\n",
    "\n",
    "Nota: La función zfill(2) la uso para indicar que los valores que solo contengan 1 digito completen el segundo digito con un cero (0) a la izquierda dado que es requisito para la fecha en el formato ISO-8601  AAAA-MM-DD."
   ]
  },
  {
   "cell_type": "code",
   "execution_count": 5,
   "metadata": {},
   "outputs": [],
   "source": [
    "bn= pd.DataFrame(TV_Maze._embedded.values.tolist())['show']\n",
    "TV_Maze_Show=pd.json_normalize(bn)"
   ]
  },
  {
   "cell_type": "markdown",
   "metadata": {
    "colab": {
     "base_uri": "https://localhost:8080/"
    },
    "id": "A8nyUgQxzkzo",
    "outputId": "845afb6a-4d09-4e8a-be2e-7495a128eff6"
   },
   "source": [
    "## 2. Generación de DataFrames \n",
    "En esta sección contamos con los dataframes a trabajar, (1) TV_Maze que corresponde a la información obtenida de Schedule que nos da un vistazo general de la información.  Y (2) TV_Maze_Show, que expande la columna _embedded que contiene toda la información del Show que considero mucho más útil dado que encontramos un mayor cantidad de variables categóricas que servirán mas adelante.\n",
    "\n",
    "En este caso nuestros segundo dataset contiene ya filtrados los datos que corresponden a TV_Shows emitidos en el mes de Dic-2020 por lo que no es necesario realizar una cruce de tablas para cumplir con esta condición.\n",
    "\n",
    "#TV_Maze.head(5)\n",
    "#TV_Maze.to_excel('TV_Maze.xlsx')\n",
    "#pd.drop(TV_Maze['id','airestamp','_links','_embedded','summary','image','url'])\n"
   ]
  },
  {
   "cell_type": "markdown",
   "metadata": {},
   "source": [
    "## 3. Profiling de los DF\n",
    "En este proceso se hará uso como se solicitó de archivos profiling en HTML dado que permiten una mayor versatilidad a la hora de realizar la visualizaciones. "
   ]
  },
  {
   "cell_type": "code",
   "execution_count": 13,
   "metadata": {
    "id": "wL2SYdwEzEhv"
   },
   "outputs": [
    {
     "data": {
      "application/vnd.jupyter.widget-view+json": {
       "model_id": "bc2d16da0f4145e8a47e7a9f9e65eeee",
       "version_major": 2,
       "version_minor": 0
      },
      "text/plain": [
       "Summarize dataset:   0%|          | 0/5 [00:00<?, ?it/s]"
      ]
     },
     "metadata": {},
     "output_type": "display_data"
    },
    {
     "data": {
      "application/vnd.jupyter.widget-view+json": {
       "model_id": "fe875463257243499368812ac4fba112",
       "version_major": 2,
       "version_minor": 0
      },
      "text/plain": [
       "Generate report structure:   0%|          | 0/1 [00:00<?, ?it/s]"
      ]
     },
     "metadata": {},
     "output_type": "display_data"
    },
    {
     "data": {
      "application/vnd.jupyter.widget-view+json": {
       "model_id": "2457de327f5f49639219c061fc3eb368",
       "version_major": 2,
       "version_minor": 0
      },
      "text/plain": [
       "Render HTML:   0%|          | 0/1 [00:00<?, ?it/s]"
      ]
     },
     "metadata": {},
     "output_type": "display_data"
    },
    {
     "data": {
      "application/vnd.jupyter.widget-view+json": {
       "model_id": "a0a795cbe80c47ccaa138bc89ee52354",
       "version_major": 2,
       "version_minor": 0
      },
      "text/plain": [
       "Export report to file:   0%|          | 0/1 [00:00<?, ?it/s]"
      ]
     },
     "metadata": {},
     "output_type": "display_data"
    }
   ],
   "source": [
    "#TV_Maze_Show.describe()\n",
    "profile = ProfileReport(TV_Maze, title='Modelo TV Maze Schedule', html={'style':{'full_witdth':True}})\n",
    "profile.to_file(RutaJSON+'\\profiling'+'\\Reporte TV Maze Schedule'+\".html\")"
   ]
  },
  {
   "cell_type": "markdown",
   "metadata": {},
   "source": [
    "##### En base al reporte de TV Maze Schedule\n",
    "Se encuentra que las columnas rating,_links y _embedded. En este punto no son tan útiles las dos primeras porque no aportan información valiosa ya que tienen un JSON embebido pero la mayor parte de los valores en el caso de rating son valores None, adicionalmente esta columna no presenta el ID de los datos.\n",
    "\n",
    "##### Image\n",
    "Contiene imágenes de los dato, sin embargo no son relevantes para el análisis en este punto. Puede servir para otro tipo de análisis. Sin embargo dado que 66.6% de los datos es una variable que puede ser suceptible a ser eliminada.\n",
    "\n",
    "#### _embedded \n",
    "Ya en este punto se extrajo la información, es el dataset más valiosos tanto por la cantidad de información como porque permite vincular los DF TV_Maze y TV_Maze shows por medio de realizar un JOIN por medio del ID. EN ESTE PUNTO SE PUEDE ELIMINAR \n",
    "\n",
    "#### _ratings\n",
    "Aporta información pero la mayor parte de los datos tiene este campo vacio, puede ser un indicador de popularidad de la serie.\n",
    "\n"
   ]
  },
  {
   "cell_type": "code",
   "execution_count": 14,
   "metadata": {},
   "outputs": [
    {
     "data": {
      "application/vnd.jupyter.widget-view+json": {
       "model_id": "2947eb0bbe124345a37e122a8e4122ca",
       "version_major": 2,
       "version_minor": 0
      },
      "text/plain": [
       "Summarize dataset:   0%|          | 0/5 [00:00<?, ?it/s]"
      ]
     },
     "metadata": {},
     "output_type": "display_data"
    },
    {
     "name": "stderr",
     "output_type": "stream",
     "text": [
      "C:\\Users\\anliscen\\AppData\\Roaming\\Python\\Python39\\site-packages\\pandas_profiling\\model\\correlations.py:55: UserWarning: There was an attempt to calculate the cramers correlation, but this failed.\n",
      "To hide this warning, disable the calculation\n",
      "(using `df.profile_report(correlations={\"cramers\": {\"calculate\": False}})`\n",
      "If this is problematic for your use case, please report this as an issue:\n",
      "https://github.com/pandas-profiling/pandas-profiling/issues\n",
      "(include the error message: 'No data; `observed` has size 0.')\n",
      "  warnings.warn(\n"
     ]
    },
    {
     "data": {
      "application/vnd.jupyter.widget-view+json": {
       "model_id": "99d3592802b74daba1e7a6552f982294",
       "version_major": 2,
       "version_minor": 0
      },
      "text/plain": [
       "Generate report structure:   0%|          | 0/1 [00:00<?, ?it/s]"
      ]
     },
     "metadata": {},
     "output_type": "display_data"
    },
    {
     "data": {
      "application/vnd.jupyter.widget-view+json": {
       "model_id": "a4f3a34c625d4a8793603f520e585f14",
       "version_major": 2,
       "version_minor": 0
      },
      "text/plain": [
       "Render HTML:   0%|          | 0/1 [00:00<?, ?it/s]"
      ]
     },
     "metadata": {},
     "output_type": "display_data"
    },
    {
     "data": {
      "application/vnd.jupyter.widget-view+json": {
       "model_id": "b056bf99689640a8a0a2aa0499e91a07",
       "version_major": 2,
       "version_minor": 0
      },
      "text/plain": [
       "Export report to file:   0%|          | 0/1 [00:00<?, ?it/s]"
      ]
     },
     "metadata": {},
     "output_type": "display_data"
    }
   ],
   "source": [
    "#TV_Maze_Show.describe()\n",
    "profile2 = ProfileReport(TV_Maze_Show, title='Modelo TV Maze Shows', html={'style':{'full_witdth':True}})\n",
    "profile2.to_file(RutaJSON+'\\profiling'+'\\Reporte TV Maze Shows'+\".html\")"
   ]
  },
  {
   "cell_type": "markdown",
   "metadata": {},
   "source": [
    "#### En base al reporte de datos de TV_Maze Shows\n",
    "Se encuentra un DF rico en datos, con demasiadas columnas. "
   ]
  },
  {
   "cell_type": "code",
   "execution_count": null,
   "metadata": {
    "colab": {
     "base_uri": "https://localhost:8080/"
    },
    "id": "kBuqQXyYaoCE",
    "outputId": "70277907-466c-4f9a-9456-f0dc89be763b"
   },
   "outputs": [],
   "source": [
    "#Distribución de Fechas\n",
    "plot = TV_Maze_Show['type'].value_counts().plot(kind='pie',autopct='%.2f',\n",
    "                                           figsize=(4,6),\n",
    "                                           title='Distribución por Tipo de programa') \n",
    "plot\n",
    "\n",
    "\n",
    "TV_Maze['runtime'].median()\n",
    "\n",
    "TV_Regular=TV_Maze['type'].str.contains(['regular']) TV_Maze['runtime'].median()\n",
    "\n",
    "TV_Special=TV_Maze['type'].str.contains(['insignificant_special']) TV_Maze['runtime'].median()\n",
    "\n",
    "TV_Special_Insignificant=TV_Maze['type'].str.contains(['significant_special']) TV_Maze['runtime'].median()"
   ]
  },
  {
   "cell_type": "code",
   "execution_count": null,
   "metadata": {
    "id": "2QW2PdaMluyN"
   },
   "outputs": [],
   "source": [
    "AverageRuntime = pd.crosstab(index=TV_Maze['runtime'],\n",
    "            columns=TV_Maze['type'])\n",
    "AverageRuntime"
   ]
  },
  {
   "cell_type": "code",
   "execution_count": null,
   "metadata": {
    "id": "oXrEwjR3nSBj"
   },
   "outputs": [],
   "source": [
    "pd.value_counts(TV_Maze['image'])"
   ]
  },
  {
   "cell_type": "code",
   "execution_count": null,
   "metadata": {},
   "outputs": [],
   "source": [
    "#TV_Maze=(TV_Maze['type'].str.contains('regular'))\n",
    "Regular=TV_Maze.loc[TV_Maze['type'] == 'significant_special']\n",
    "ISpecial=TV_Maze.loc[TV_Maze['type'] == 'insignificant_special']\n",
    "Special=TV_Maze.loc[TV_Maze['type'] == 'regular']\n"
   ]
  },
  {
   "cell_type": "markdown",
   "metadata": {},
   "source": [
    "###### 6.A. Average Value from data Regular, Significant_Special and Significant_Special on type"
   ]
  },
  {
   "cell_type": "code",
   "execution_count": null,
   "metadata": {},
   "outputs": [],
   "source": [
    "Special['runtime'].mean()"
   ]
  },
  {
   "cell_type": "code",
   "execution_count": null,
   "metadata": {},
   "outputs": [],
   "source": [
    "ISpecial['runtime'].mean()"
   ]
  },
  {
   "cell_type": "code",
   "execution_count": null,
   "metadata": {},
   "outputs": [],
   "source": [
    "Special['runtime'].mean()"
   ]
  },
  {
   "cell_type": "code",
   "execution_count": null,
   "metadata": {},
   "outputs": [],
   "source": [
    "SCFull = pd.read_json(\"https://api.tvmaze.com/schedule/full\")"
   ]
  },
  {
   "cell_type": "code",
   "execution_count": null,
   "metadata": {},
   "outputs": [],
   "source": [
    "TV_Maze.columns"
   ]
  },
  {
   "cell_type": "code",
   "execution_count": null,
   "metadata": {},
   "outputs": [],
   "source": []
  }
 ],
 "metadata": {
  "colab": {
   "collapsed_sections": [],
   "name": "LuloTP.ipynb",
   "provenance": []
  },
  "kernelspec": {
   "display_name": "Python 3 (ipykernel)",
   "language": "python",
   "name": "python3"
  },
  "language_info": {
   "codemirror_mode": {
    "name": "ipython",
    "version": 3
   },
   "file_extension": ".py",
   "mimetype": "text/x-python",
   "name": "python",
   "nbconvert_exporter": "python",
   "pygments_lexer": "ipython3",
   "version": "3.9.12"
  }
 },
 "nbformat": 4,
 "nbformat_minor": 1
}
